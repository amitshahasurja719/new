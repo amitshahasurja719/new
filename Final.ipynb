{
  "nbformat": 4,
  "nbformat_minor": 0,
  "metadata": {
    "colab": {
      "name": "Final.ipynb",
      "provenance": [],
      "collapsed_sections": [],
      "include_colab_link": true
    },
    "kernelspec": {
      "name": "python3",
      "display_name": "Python 3"
    }
  },
  "cells": [
    {
      "cell_type": "markdown",
      "metadata": {
        "id": "view-in-github",
        "colab_type": "text"
      },
      "source": [
        "<a href=\"https://colab.research.google.com/github/amitshahasurja719/new/blob/master/Final.ipynb\" target=\"_parent\"><img src=\"https://colab.research.google.com/assets/colab-badge.svg\" alt=\"Open In Colab\"/></a>"
      ]
    },
    {
      "cell_type": "code",
      "metadata": {
        "id": "caGQfMy3SM2g",
        "colab_type": "code",
        "colab": {
          "base_uri": "https://localhost:8080/",
          "height": 658
        },
        "outputId": "c1dc0125-0359-47e8-d61a-042910345dfd"
      },
      "source": [
        "!pip install tensorflow"
      ],
      "execution_count": null,
      "outputs": [
        {
          "output_type": "stream",
          "text": [
            "Requirement already satisfied: tensorflow in /usr/local/lib/python3.6/dist-packages (2.3.0)\n",
            "Requirement already satisfied: h5py<2.11.0,>=2.10.0 in /usr/local/lib/python3.6/dist-packages (from tensorflow) (2.10.0)\n",
            "Requirement already satisfied: scipy==1.4.1 in /usr/local/lib/python3.6/dist-packages (from tensorflow) (1.4.1)\n",
            "Requirement already satisfied: keras-preprocessing<1.2,>=1.1.1 in /usr/local/lib/python3.6/dist-packages (from tensorflow) (1.1.2)\n",
            "Requirement already satisfied: wheel>=0.26 in /usr/local/lib/python3.6/dist-packages (from tensorflow) (0.34.2)\n",
            "Requirement already satisfied: numpy<1.19.0,>=1.16.0 in /usr/local/lib/python3.6/dist-packages (from tensorflow) (1.18.5)\n",
            "Requirement already satisfied: six>=1.12.0 in /usr/local/lib/python3.6/dist-packages (from tensorflow) (1.15.0)\n",
            "Requirement already satisfied: google-pasta>=0.1.8 in /usr/local/lib/python3.6/dist-packages (from tensorflow) (0.2.0)\n",
            "Requirement already satisfied: gast==0.3.3 in /usr/local/lib/python3.6/dist-packages (from tensorflow) (0.3.3)\n",
            "Requirement already satisfied: protobuf>=3.9.2 in /usr/local/lib/python3.6/dist-packages (from tensorflow) (3.12.4)\n",
            "Requirement already satisfied: wrapt>=1.11.1 in /usr/local/lib/python3.6/dist-packages (from tensorflow) (1.12.1)\n",
            "Requirement already satisfied: termcolor>=1.1.0 in /usr/local/lib/python3.6/dist-packages (from tensorflow) (1.1.0)\n",
            "Requirement already satisfied: grpcio>=1.8.6 in /usr/local/lib/python3.6/dist-packages (from tensorflow) (1.30.0)\n",
            "Requirement already satisfied: tensorboard<3,>=2.3.0 in /usr/local/lib/python3.6/dist-packages (from tensorflow) (2.3.0)\n",
            "Requirement already satisfied: tensorflow-estimator<2.4.0,>=2.3.0 in /usr/local/lib/python3.6/dist-packages (from tensorflow) (2.3.0)\n",
            "Requirement already satisfied: astunparse==1.6.3 in /usr/local/lib/python3.6/dist-packages (from tensorflow) (1.6.3)\n",
            "Requirement already satisfied: opt-einsum>=2.3.2 in /usr/local/lib/python3.6/dist-packages (from tensorflow) (3.3.0)\n",
            "Requirement already satisfied: absl-py>=0.7.0 in /usr/local/lib/python3.6/dist-packages (from tensorflow) (0.9.0)\n",
            "Requirement already satisfied: setuptools in /usr/local/lib/python3.6/dist-packages (from protobuf>=3.9.2->tensorflow) (49.2.0)\n",
            "Requirement already satisfied: tensorboard-plugin-wit>=1.6.0 in /usr/local/lib/python3.6/dist-packages (from tensorboard<3,>=2.3.0->tensorflow) (1.7.0)\n",
            "Requirement already satisfied: requests<3,>=2.21.0 in /usr/local/lib/python3.6/dist-packages (from tensorboard<3,>=2.3.0->tensorflow) (2.23.0)\n",
            "Requirement already satisfied: google-auth-oauthlib<0.5,>=0.4.1 in /usr/local/lib/python3.6/dist-packages (from tensorboard<3,>=2.3.0->tensorflow) (0.4.1)\n",
            "Requirement already satisfied: google-auth<2,>=1.6.3 in /usr/local/lib/python3.6/dist-packages (from tensorboard<3,>=2.3.0->tensorflow) (1.17.2)\n",
            "Requirement already satisfied: markdown>=2.6.8 in /usr/local/lib/python3.6/dist-packages (from tensorboard<3,>=2.3.0->tensorflow) (3.2.2)\n",
            "Requirement already satisfied: werkzeug>=0.11.15 in /usr/local/lib/python3.6/dist-packages (from tensorboard<3,>=2.3.0->tensorflow) (1.0.1)\n",
            "Requirement already satisfied: certifi>=2017.4.17 in /usr/local/lib/python3.6/dist-packages (from requests<3,>=2.21.0->tensorboard<3,>=2.3.0->tensorflow) (2020.6.20)\n",
            "Requirement already satisfied: chardet<4,>=3.0.2 in /usr/local/lib/python3.6/dist-packages (from requests<3,>=2.21.0->tensorboard<3,>=2.3.0->tensorflow) (3.0.4)\n",
            "Requirement already satisfied: urllib3!=1.25.0,!=1.25.1,<1.26,>=1.21.1 in /usr/local/lib/python3.6/dist-packages (from requests<3,>=2.21.0->tensorboard<3,>=2.3.0->tensorflow) (1.24.3)\n",
            "Requirement already satisfied: idna<3,>=2.5 in /usr/local/lib/python3.6/dist-packages (from requests<3,>=2.21.0->tensorboard<3,>=2.3.0->tensorflow) (2.10)\n",
            "Requirement already satisfied: requests-oauthlib>=0.7.0 in /usr/local/lib/python3.6/dist-packages (from google-auth-oauthlib<0.5,>=0.4.1->tensorboard<3,>=2.3.0->tensorflow) (1.3.0)\n",
            "Requirement already satisfied: cachetools<5.0,>=2.0.0 in /usr/local/lib/python3.6/dist-packages (from google-auth<2,>=1.6.3->tensorboard<3,>=2.3.0->tensorflow) (4.1.1)\n",
            "Requirement already satisfied: rsa<5,>=3.1.4; python_version >= \"3\" in /usr/local/lib/python3.6/dist-packages (from google-auth<2,>=1.6.3->tensorboard<3,>=2.3.0->tensorflow) (4.6)\n",
            "Requirement already satisfied: pyasn1-modules>=0.2.1 in /usr/local/lib/python3.6/dist-packages (from google-auth<2,>=1.6.3->tensorboard<3,>=2.3.0->tensorflow) (0.2.8)\n",
            "Requirement already satisfied: importlib-metadata; python_version < \"3.8\" in /usr/local/lib/python3.6/dist-packages (from markdown>=2.6.8->tensorboard<3,>=2.3.0->tensorflow) (1.7.0)\n",
            "Requirement already satisfied: oauthlib>=3.0.0 in /usr/local/lib/python3.6/dist-packages (from requests-oauthlib>=0.7.0->google-auth-oauthlib<0.5,>=0.4.1->tensorboard<3,>=2.3.0->tensorflow) (3.1.0)\n",
            "Requirement already satisfied: pyasn1>=0.1.3 in /usr/local/lib/python3.6/dist-packages (from rsa<5,>=3.1.4; python_version >= \"3\"->google-auth<2,>=1.6.3->tensorboard<3,>=2.3.0->tensorflow) (0.4.8)\n",
            "Requirement already satisfied: zipp>=0.5 in /usr/local/lib/python3.6/dist-packages (from importlib-metadata; python_version < \"3.8\"->markdown>=2.6.8->tensorboard<3,>=2.3.0->tensorflow) (3.1.0)\n"
          ],
          "name": "stdout"
        }
      ]
    },
    {
      "cell_type": "code",
      "metadata": {
        "id": "5DRO68Z3SVlW",
        "colab_type": "code",
        "colab": {}
      },
      "source": [
        "import keras\n",
        "import numpy as np\n",
        "import pandas as pd\n",
        "from sklearn.model_selection import train_test_split"
      ],
      "execution_count": null,
      "outputs": []
    },
    {
      "cell_type": "code",
      "metadata": {
        "id": "GXbBucEKSfmz",
        "colab_type": "code",
        "colab": {
          "base_uri": "https://localhost:8080/",
          "height": 383
        },
        "outputId": "a8c73d1c-fcb0-4f17-a81d-e48ccaace6ac"
      },
      "source": [
        "from google.colab import drive\n",
        "drive.mount('/content/drive')\n",
        "data = pd.read_excel('drive/My Drive/Test.xlsx')\n",
        "data.head()"
      ],
      "execution_count": null,
      "outputs": [
        {
          "output_type": "stream",
          "text": [
            "Go to this URL in a browser: https://accounts.google.com/o/oauth2/auth?client_id=947318989803-6bn6qk8qdgf4n4g3pfee6491hc0brc4i.apps.googleusercontent.com&redirect_uri=urn%3aietf%3awg%3aoauth%3a2.0%3aoob&response_type=code&scope=email%20https%3a%2f%2fwww.googleapis.com%2fauth%2fdocs.test%20https%3a%2f%2fwww.googleapis.com%2fauth%2fdrive%20https%3a%2f%2fwww.googleapis.com%2fauth%2fdrive.photos.readonly%20https%3a%2f%2fwww.googleapis.com%2fauth%2fpeopleapi.readonly\n",
            "\n",
            "Enter your authorization code:\n",
            "··········\n",
            "Mounted at /content/drive\n"
          ],
          "name": "stdout"
        },
        {
          "output_type": "execute_result",
          "data": {
            "text/html": [
              "<div>\n",
              "<style scoped>\n",
              "    .dataframe tbody tr th:only-of-type {\n",
              "        vertical-align: middle;\n",
              "    }\n",
              "\n",
              "    .dataframe tbody tr th {\n",
              "        vertical-align: top;\n",
              "    }\n",
              "\n",
              "    .dataframe thead th {\n",
              "        text-align: right;\n",
              "    }\n",
              "</style>\n",
              "<table border=\"1\" class=\"dataframe\">\n",
              "  <thead>\n",
              "    <tr style=\"text-align: right;\">\n",
              "      <th></th>\n",
              "      <th>SNo</th>\n",
              "      <th>Date</th>\n",
              "      <th>Country</th>\n",
              "      <th>RegionCode</th>\n",
              "      <th>RegionName</th>\n",
              "      <th>Latitude</th>\n",
              "      <th>Longitude</th>\n",
              "      <th>HospitalizedPatients</th>\n",
              "      <th>IntensiveCarePatients</th>\n",
              "      <th>TotalHospitalizedPatients</th>\n",
              "      <th>HomeConfinement</th>\n",
              "      <th>CurrentPositiveCases</th>\n",
              "      <th>NewPositiveCases</th>\n",
              "      <th>Recovered</th>\n",
              "      <th>Deaths</th>\n",
              "      <th>TotalPositiveCases</th>\n",
              "      <th>TestsPerformed</th>\n",
              "    </tr>\n",
              "  </thead>\n",
              "  <tbody>\n",
              "    <tr>\n",
              "      <th>0</th>\n",
              "      <td>0</td>\n",
              "      <td>2020-02-24T18:00:00</td>\n",
              "      <td>ITA</td>\n",
              "      <td>13</td>\n",
              "      <td>Abruzzo</td>\n",
              "      <td>42.351222</td>\n",
              "      <td>13.398438</td>\n",
              "      <td>0</td>\n",
              "      <td>0</td>\n",
              "      <td>0</td>\n",
              "      <td>0</td>\n",
              "      <td>0</td>\n",
              "      <td>0</td>\n",
              "      <td>0</td>\n",
              "      <td>0</td>\n",
              "      <td>0</td>\n",
              "      <td>NaN</td>\n",
              "    </tr>\n",
              "    <tr>\n",
              "      <th>1</th>\n",
              "      <td>1</td>\n",
              "      <td>2020-02-24T18:00:00</td>\n",
              "      <td>ITA</td>\n",
              "      <td>17</td>\n",
              "      <td>Basilicata</td>\n",
              "      <td>40.639471</td>\n",
              "      <td>15.805148</td>\n",
              "      <td>0</td>\n",
              "      <td>0</td>\n",
              "      <td>0</td>\n",
              "      <td>0</td>\n",
              "      <td>0</td>\n",
              "      <td>0</td>\n",
              "      <td>0</td>\n",
              "      <td>0</td>\n",
              "      <td>0</td>\n",
              "      <td>NaN</td>\n",
              "    </tr>\n",
              "    <tr>\n",
              "      <th>2</th>\n",
              "      <td>2</td>\n",
              "      <td>2020-02-24T18:00:00</td>\n",
              "      <td>ITA</td>\n",
              "      <td>21</td>\n",
              "      <td>P.A. Bolzano</td>\n",
              "      <td>46.499335</td>\n",
              "      <td>11.356624</td>\n",
              "      <td>0</td>\n",
              "      <td>0</td>\n",
              "      <td>0</td>\n",
              "      <td>0</td>\n",
              "      <td>0</td>\n",
              "      <td>0</td>\n",
              "      <td>0</td>\n",
              "      <td>0</td>\n",
              "      <td>0</td>\n",
              "      <td>NaN</td>\n",
              "    </tr>\n",
              "    <tr>\n",
              "      <th>3</th>\n",
              "      <td>3</td>\n",
              "      <td>2020-02-24T18:00:00</td>\n",
              "      <td>ITA</td>\n",
              "      <td>18</td>\n",
              "      <td>Calabria</td>\n",
              "      <td>38.905976</td>\n",
              "      <td>16.594402</td>\n",
              "      <td>0</td>\n",
              "      <td>0</td>\n",
              "      <td>0</td>\n",
              "      <td>0</td>\n",
              "      <td>0</td>\n",
              "      <td>0</td>\n",
              "      <td>0</td>\n",
              "      <td>0</td>\n",
              "      <td>0</td>\n",
              "      <td>NaN</td>\n",
              "    </tr>\n",
              "    <tr>\n",
              "      <th>4</th>\n",
              "      <td>4</td>\n",
              "      <td>2020-02-24T18:00:00</td>\n",
              "      <td>ITA</td>\n",
              "      <td>15</td>\n",
              "      <td>Campania</td>\n",
              "      <td>40.839566</td>\n",
              "      <td>14.250850</td>\n",
              "      <td>0</td>\n",
              "      <td>0</td>\n",
              "      <td>0</td>\n",
              "      <td>0</td>\n",
              "      <td>0</td>\n",
              "      <td>0</td>\n",
              "      <td>0</td>\n",
              "      <td>0</td>\n",
              "      <td>0</td>\n",
              "      <td>NaN</td>\n",
              "    </tr>\n",
              "  </tbody>\n",
              "</table>\n",
              "</div>"
            ],
            "text/plain": [
              "   SNo                 Date Country  ...  Deaths TotalPositiveCases  TestsPerformed\n",
              "0    0  2020-02-24T18:00:00     ITA  ...       0                  0             NaN\n",
              "1    1  2020-02-24T18:00:00     ITA  ...       0                  0             NaN\n",
              "2    2  2020-02-24T18:00:00     ITA  ...       0                  0             NaN\n",
              "3    3  2020-02-24T18:00:00     ITA  ...       0                  0             NaN\n",
              "4    4  2020-02-24T18:00:00     ITA  ...       0                  0             NaN\n",
              "\n",
              "[5 rows x 17 columns]"
            ]
          },
          "metadata": {
            "tags": []
          },
          "execution_count": 3
        }
      ]
    },
    {
      "cell_type": "code",
      "metadata": {
        "id": "4jUMklSySsuO",
        "colab_type": "code",
        "colab": {}
      },
      "source": [
        "np.set_printoptions(suppress = True)\n",
        "pd.set_option('display.float_format', '{:.2f}'.format)"
      ],
      "execution_count": null,
      "outputs": []
    },
    {
      "cell_type": "code",
      "metadata": {
        "id": "Po7KltMJTCO1",
        "colab_type": "code",
        "colab": {
          "base_uri": "https://localhost:8080/",
          "height": 299
        },
        "outputId": "c3f30cdc-d462-461a-8f05-1ad6c677b42f"
      },
      "source": [
        "data.drop(\"SNo\", axis = 1, inplace = True)\n",
        "data.drop(\"Country\", axis = 1, inplace = True)\n",
        "data.head()"
      ],
      "execution_count": null,
      "outputs": [
        {
          "output_type": "execute_result",
          "data": {
            "text/html": [
              "<div>\n",
              "<style scoped>\n",
              "    .dataframe tbody tr th:only-of-type {\n",
              "        vertical-align: middle;\n",
              "    }\n",
              "\n",
              "    .dataframe tbody tr th {\n",
              "        vertical-align: top;\n",
              "    }\n",
              "\n",
              "    .dataframe thead th {\n",
              "        text-align: right;\n",
              "    }\n",
              "</style>\n",
              "<table border=\"1\" class=\"dataframe\">\n",
              "  <thead>\n",
              "    <tr style=\"text-align: right;\">\n",
              "      <th></th>\n",
              "      <th>Date</th>\n",
              "      <th>RegionCode</th>\n",
              "      <th>RegionName</th>\n",
              "      <th>Latitude</th>\n",
              "      <th>Longitude</th>\n",
              "      <th>HospitalizedPatients</th>\n",
              "      <th>IntensiveCarePatients</th>\n",
              "      <th>TotalHospitalizedPatients</th>\n",
              "      <th>HomeConfinement</th>\n",
              "      <th>CurrentPositiveCases</th>\n",
              "      <th>NewPositiveCases</th>\n",
              "      <th>Recovered</th>\n",
              "      <th>Deaths</th>\n",
              "      <th>TotalPositiveCases</th>\n",
              "      <th>TestsPerformed</th>\n",
              "    </tr>\n",
              "  </thead>\n",
              "  <tbody>\n",
              "    <tr>\n",
              "      <th>0</th>\n",
              "      <td>2020-02-24T18:00:00</td>\n",
              "      <td>13</td>\n",
              "      <td>Abruzzo</td>\n",
              "      <td>42.35</td>\n",
              "      <td>13.40</td>\n",
              "      <td>0</td>\n",
              "      <td>0</td>\n",
              "      <td>0</td>\n",
              "      <td>0</td>\n",
              "      <td>0</td>\n",
              "      <td>0</td>\n",
              "      <td>0</td>\n",
              "      <td>0</td>\n",
              "      <td>0</td>\n",
              "      <td>nan</td>\n",
              "    </tr>\n",
              "    <tr>\n",
              "      <th>1</th>\n",
              "      <td>2020-02-24T18:00:00</td>\n",
              "      <td>17</td>\n",
              "      <td>Basilicata</td>\n",
              "      <td>40.64</td>\n",
              "      <td>15.81</td>\n",
              "      <td>0</td>\n",
              "      <td>0</td>\n",
              "      <td>0</td>\n",
              "      <td>0</td>\n",
              "      <td>0</td>\n",
              "      <td>0</td>\n",
              "      <td>0</td>\n",
              "      <td>0</td>\n",
              "      <td>0</td>\n",
              "      <td>nan</td>\n",
              "    </tr>\n",
              "    <tr>\n",
              "      <th>2</th>\n",
              "      <td>2020-02-24T18:00:00</td>\n",
              "      <td>21</td>\n",
              "      <td>P.A. Bolzano</td>\n",
              "      <td>46.50</td>\n",
              "      <td>11.36</td>\n",
              "      <td>0</td>\n",
              "      <td>0</td>\n",
              "      <td>0</td>\n",
              "      <td>0</td>\n",
              "      <td>0</td>\n",
              "      <td>0</td>\n",
              "      <td>0</td>\n",
              "      <td>0</td>\n",
              "      <td>0</td>\n",
              "      <td>nan</td>\n",
              "    </tr>\n",
              "    <tr>\n",
              "      <th>3</th>\n",
              "      <td>2020-02-24T18:00:00</td>\n",
              "      <td>18</td>\n",
              "      <td>Calabria</td>\n",
              "      <td>38.91</td>\n",
              "      <td>16.59</td>\n",
              "      <td>0</td>\n",
              "      <td>0</td>\n",
              "      <td>0</td>\n",
              "      <td>0</td>\n",
              "      <td>0</td>\n",
              "      <td>0</td>\n",
              "      <td>0</td>\n",
              "      <td>0</td>\n",
              "      <td>0</td>\n",
              "      <td>nan</td>\n",
              "    </tr>\n",
              "    <tr>\n",
              "      <th>4</th>\n",
              "      <td>2020-02-24T18:00:00</td>\n",
              "      <td>15</td>\n",
              "      <td>Campania</td>\n",
              "      <td>40.84</td>\n",
              "      <td>14.25</td>\n",
              "      <td>0</td>\n",
              "      <td>0</td>\n",
              "      <td>0</td>\n",
              "      <td>0</td>\n",
              "      <td>0</td>\n",
              "      <td>0</td>\n",
              "      <td>0</td>\n",
              "      <td>0</td>\n",
              "      <td>0</td>\n",
              "      <td>nan</td>\n",
              "    </tr>\n",
              "  </tbody>\n",
              "</table>\n",
              "</div>"
            ],
            "text/plain": [
              "                  Date  RegionCode  ... TotalPositiveCases  TestsPerformed\n",
              "0  2020-02-24T18:00:00          13  ...                  0             nan\n",
              "1  2020-02-24T18:00:00          17  ...                  0             nan\n",
              "2  2020-02-24T18:00:00          21  ...                  0             nan\n",
              "3  2020-02-24T18:00:00          18  ...                  0             nan\n",
              "4  2020-02-24T18:00:00          15  ...                  0             nan\n",
              "\n",
              "[5 rows x 15 columns]"
            ]
          },
          "metadata": {
            "tags": []
          },
          "execution_count": 5
        }
      ]
    },
    {
      "cell_type": "code",
      "metadata": {
        "id": "RnUXhWA6TGIy",
        "colab_type": "code",
        "colab": {
          "base_uri": "https://localhost:8080/",
          "height": 286
        },
        "outputId": "7b7fb635-0c8e-4a5e-9ebc-5cecf8ebcc6e"
      },
      "source": [
        "data.isnull().sum()"
      ],
      "execution_count": null,
      "outputs": [
        {
          "output_type": "execute_result",
          "data": {
            "text/plain": [
              "Date                            0\n",
              "RegionCode                      0\n",
              "RegionName                      0\n",
              "Latitude                        0\n",
              "Longitude                       0\n",
              "HospitalizedPatients            0\n",
              "IntensiveCarePatients           0\n",
              "TotalHospitalizedPatients       0\n",
              "HomeConfinement                 0\n",
              "CurrentPositiveCases            0\n",
              "NewPositiveCases                0\n",
              "Recovered                       0\n",
              "Deaths                          0\n",
              "TotalPositiveCases              0\n",
              "TestsPerformed               1155\n",
              "dtype: int64"
            ]
          },
          "metadata": {
            "tags": []
          },
          "execution_count": 6
        }
      ]
    },
    {
      "cell_type": "code",
      "metadata": {
        "id": "NhXgD5kVTKTS",
        "colab_type": "code",
        "colab": {
          "base_uri": "https://localhost:8080/",
          "height": 299
        },
        "outputId": "d754a803-f5fc-4297-b552-05d4b1326ee7"
      },
      "source": [
        "data['TestsPerformed'].fillna(0, inplace = True)\n",
        "data.head()"
      ],
      "execution_count": null,
      "outputs": [
        {
          "output_type": "execute_result",
          "data": {
            "text/html": [
              "<div>\n",
              "<style scoped>\n",
              "    .dataframe tbody tr th:only-of-type {\n",
              "        vertical-align: middle;\n",
              "    }\n",
              "\n",
              "    .dataframe tbody tr th {\n",
              "        vertical-align: top;\n",
              "    }\n",
              "\n",
              "    .dataframe thead th {\n",
              "        text-align: right;\n",
              "    }\n",
              "</style>\n",
              "<table border=\"1\" class=\"dataframe\">\n",
              "  <thead>\n",
              "    <tr style=\"text-align: right;\">\n",
              "      <th></th>\n",
              "      <th>Date</th>\n",
              "      <th>RegionCode</th>\n",
              "      <th>RegionName</th>\n",
              "      <th>Latitude</th>\n",
              "      <th>Longitude</th>\n",
              "      <th>HospitalizedPatients</th>\n",
              "      <th>IntensiveCarePatients</th>\n",
              "      <th>TotalHospitalizedPatients</th>\n",
              "      <th>HomeConfinement</th>\n",
              "      <th>CurrentPositiveCases</th>\n",
              "      <th>NewPositiveCases</th>\n",
              "      <th>Recovered</th>\n",
              "      <th>Deaths</th>\n",
              "      <th>TotalPositiveCases</th>\n",
              "      <th>TestsPerformed</th>\n",
              "    </tr>\n",
              "  </thead>\n",
              "  <tbody>\n",
              "    <tr>\n",
              "      <th>0</th>\n",
              "      <td>2020-02-24T18:00:00</td>\n",
              "      <td>13</td>\n",
              "      <td>Abruzzo</td>\n",
              "      <td>42.35</td>\n",
              "      <td>13.40</td>\n",
              "      <td>0</td>\n",
              "      <td>0</td>\n",
              "      <td>0</td>\n",
              "      <td>0</td>\n",
              "      <td>0</td>\n",
              "      <td>0</td>\n",
              "      <td>0</td>\n",
              "      <td>0</td>\n",
              "      <td>0</td>\n",
              "      <td>0.00</td>\n",
              "    </tr>\n",
              "    <tr>\n",
              "      <th>1</th>\n",
              "      <td>2020-02-24T18:00:00</td>\n",
              "      <td>17</td>\n",
              "      <td>Basilicata</td>\n",
              "      <td>40.64</td>\n",
              "      <td>15.81</td>\n",
              "      <td>0</td>\n",
              "      <td>0</td>\n",
              "      <td>0</td>\n",
              "      <td>0</td>\n",
              "      <td>0</td>\n",
              "      <td>0</td>\n",
              "      <td>0</td>\n",
              "      <td>0</td>\n",
              "      <td>0</td>\n",
              "      <td>0.00</td>\n",
              "    </tr>\n",
              "    <tr>\n",
              "      <th>2</th>\n",
              "      <td>2020-02-24T18:00:00</td>\n",
              "      <td>21</td>\n",
              "      <td>P.A. Bolzano</td>\n",
              "      <td>46.50</td>\n",
              "      <td>11.36</td>\n",
              "      <td>0</td>\n",
              "      <td>0</td>\n",
              "      <td>0</td>\n",
              "      <td>0</td>\n",
              "      <td>0</td>\n",
              "      <td>0</td>\n",
              "      <td>0</td>\n",
              "      <td>0</td>\n",
              "      <td>0</td>\n",
              "      <td>0.00</td>\n",
              "    </tr>\n",
              "    <tr>\n",
              "      <th>3</th>\n",
              "      <td>2020-02-24T18:00:00</td>\n",
              "      <td>18</td>\n",
              "      <td>Calabria</td>\n",
              "      <td>38.91</td>\n",
              "      <td>16.59</td>\n",
              "      <td>0</td>\n",
              "      <td>0</td>\n",
              "      <td>0</td>\n",
              "      <td>0</td>\n",
              "      <td>0</td>\n",
              "      <td>0</td>\n",
              "      <td>0</td>\n",
              "      <td>0</td>\n",
              "      <td>0</td>\n",
              "      <td>0.00</td>\n",
              "    </tr>\n",
              "    <tr>\n",
              "      <th>4</th>\n",
              "      <td>2020-02-24T18:00:00</td>\n",
              "      <td>15</td>\n",
              "      <td>Campania</td>\n",
              "      <td>40.84</td>\n",
              "      <td>14.25</td>\n",
              "      <td>0</td>\n",
              "      <td>0</td>\n",
              "      <td>0</td>\n",
              "      <td>0</td>\n",
              "      <td>0</td>\n",
              "      <td>0</td>\n",
              "      <td>0</td>\n",
              "      <td>0</td>\n",
              "      <td>0</td>\n",
              "      <td>0.00</td>\n",
              "    </tr>\n",
              "  </tbody>\n",
              "</table>\n",
              "</div>"
            ],
            "text/plain": [
              "                  Date  RegionCode  ... TotalPositiveCases  TestsPerformed\n",
              "0  2020-02-24T18:00:00          13  ...                  0            0.00\n",
              "1  2020-02-24T18:00:00          17  ...                  0            0.00\n",
              "2  2020-02-24T18:00:00          21  ...                  0            0.00\n",
              "3  2020-02-24T18:00:00          18  ...                  0            0.00\n",
              "4  2020-02-24T18:00:00          15  ...                  0            0.00\n",
              "\n",
              "[5 rows x 15 columns]"
            ]
          },
          "metadata": {
            "tags": []
          },
          "execution_count": 7
        }
      ]
    },
    {
      "cell_type": "code",
      "metadata": {
        "id": "RgS3s2IqTOIn",
        "colab_type": "code",
        "colab": {
          "base_uri": "https://localhost:8080/",
          "height": 286
        },
        "outputId": "16b671f3-25c0-4957-a57c-c180bc3eac29"
      },
      "source": [
        "data.isnull().sum()"
      ],
      "execution_count": null,
      "outputs": [
        {
          "output_type": "execute_result",
          "data": {
            "text/plain": [
              "Date                         0\n",
              "RegionCode                   0\n",
              "RegionName                   0\n",
              "Latitude                     0\n",
              "Longitude                    0\n",
              "HospitalizedPatients         0\n",
              "IntensiveCarePatients        0\n",
              "TotalHospitalizedPatients    0\n",
              "HomeConfinement              0\n",
              "CurrentPositiveCases         0\n",
              "NewPositiveCases             0\n",
              "Recovered                    0\n",
              "Deaths                       0\n",
              "TotalPositiveCases           0\n",
              "TestsPerformed               0\n",
              "dtype: int64"
            ]
          },
          "metadata": {
            "tags": []
          },
          "execution_count": 8
        }
      ]
    },
    {
      "cell_type": "code",
      "metadata": {
        "id": "TOyF4bcQTS7J",
        "colab_type": "code",
        "colab": {
          "base_uri": "https://localhost:8080/",
          "height": 299
        },
        "outputId": "5edc18b5-2bca-4ef4-ccf5-40fdb7e22c61"
      },
      "source": [
        "from sklearn.preprocessing import LabelEncoder\n",
        "lbl = LabelEncoder()\n",
        "data['RegionName'] = lbl.fit_transform(data['RegionName'])\n",
        "data.head()"
      ],
      "execution_count": null,
      "outputs": [
        {
          "output_type": "execute_result",
          "data": {
            "text/html": [
              "<div>\n",
              "<style scoped>\n",
              "    .dataframe tbody tr th:only-of-type {\n",
              "        vertical-align: middle;\n",
              "    }\n",
              "\n",
              "    .dataframe tbody tr th {\n",
              "        vertical-align: top;\n",
              "    }\n",
              "\n",
              "    .dataframe thead th {\n",
              "        text-align: right;\n",
              "    }\n",
              "</style>\n",
              "<table border=\"1\" class=\"dataframe\">\n",
              "  <thead>\n",
              "    <tr style=\"text-align: right;\">\n",
              "      <th></th>\n",
              "      <th>Date</th>\n",
              "      <th>RegionCode</th>\n",
              "      <th>RegionName</th>\n",
              "      <th>Latitude</th>\n",
              "      <th>Longitude</th>\n",
              "      <th>HospitalizedPatients</th>\n",
              "      <th>IntensiveCarePatients</th>\n",
              "      <th>TotalHospitalizedPatients</th>\n",
              "      <th>HomeConfinement</th>\n",
              "      <th>CurrentPositiveCases</th>\n",
              "      <th>NewPositiveCases</th>\n",
              "      <th>Recovered</th>\n",
              "      <th>Deaths</th>\n",
              "      <th>TotalPositiveCases</th>\n",
              "      <th>TestsPerformed</th>\n",
              "    </tr>\n",
              "  </thead>\n",
              "  <tbody>\n",
              "    <tr>\n",
              "      <th>0</th>\n",
              "      <td>2020-02-24T18:00:00</td>\n",
              "      <td>13</td>\n",
              "      <td>0</td>\n",
              "      <td>42.35</td>\n",
              "      <td>13.40</td>\n",
              "      <td>0</td>\n",
              "      <td>0</td>\n",
              "      <td>0</td>\n",
              "      <td>0</td>\n",
              "      <td>0</td>\n",
              "      <td>0</td>\n",
              "      <td>0</td>\n",
              "      <td>0</td>\n",
              "      <td>0</td>\n",
              "      <td>0.00</td>\n",
              "    </tr>\n",
              "    <tr>\n",
              "      <th>1</th>\n",
              "      <td>2020-02-24T18:00:00</td>\n",
              "      <td>17</td>\n",
              "      <td>1</td>\n",
              "      <td>40.64</td>\n",
              "      <td>15.81</td>\n",
              "      <td>0</td>\n",
              "      <td>0</td>\n",
              "      <td>0</td>\n",
              "      <td>0</td>\n",
              "      <td>0</td>\n",
              "      <td>0</td>\n",
              "      <td>0</td>\n",
              "      <td>0</td>\n",
              "      <td>0</td>\n",
              "      <td>0.00</td>\n",
              "    </tr>\n",
              "    <tr>\n",
              "      <th>2</th>\n",
              "      <td>2020-02-24T18:00:00</td>\n",
              "      <td>21</td>\n",
              "      <td>11</td>\n",
              "      <td>46.50</td>\n",
              "      <td>11.36</td>\n",
              "      <td>0</td>\n",
              "      <td>0</td>\n",
              "      <td>0</td>\n",
              "      <td>0</td>\n",
              "      <td>0</td>\n",
              "      <td>0</td>\n",
              "      <td>0</td>\n",
              "      <td>0</td>\n",
              "      <td>0</td>\n",
              "      <td>0.00</td>\n",
              "    </tr>\n",
              "    <tr>\n",
              "      <th>3</th>\n",
              "      <td>2020-02-24T18:00:00</td>\n",
              "      <td>18</td>\n",
              "      <td>2</td>\n",
              "      <td>38.91</td>\n",
              "      <td>16.59</td>\n",
              "      <td>0</td>\n",
              "      <td>0</td>\n",
              "      <td>0</td>\n",
              "      <td>0</td>\n",
              "      <td>0</td>\n",
              "      <td>0</td>\n",
              "      <td>0</td>\n",
              "      <td>0</td>\n",
              "      <td>0</td>\n",
              "      <td>0.00</td>\n",
              "    </tr>\n",
              "    <tr>\n",
              "      <th>4</th>\n",
              "      <td>2020-02-24T18:00:00</td>\n",
              "      <td>15</td>\n",
              "      <td>3</td>\n",
              "      <td>40.84</td>\n",
              "      <td>14.25</td>\n",
              "      <td>0</td>\n",
              "      <td>0</td>\n",
              "      <td>0</td>\n",
              "      <td>0</td>\n",
              "      <td>0</td>\n",
              "      <td>0</td>\n",
              "      <td>0</td>\n",
              "      <td>0</td>\n",
              "      <td>0</td>\n",
              "      <td>0.00</td>\n",
              "    </tr>\n",
              "  </tbody>\n",
              "</table>\n",
              "</div>"
            ],
            "text/plain": [
              "                  Date  RegionCode  ...  TotalPositiveCases  TestsPerformed\n",
              "0  2020-02-24T18:00:00          13  ...                   0            0.00\n",
              "1  2020-02-24T18:00:00          17  ...                   0            0.00\n",
              "2  2020-02-24T18:00:00          21  ...                   0            0.00\n",
              "3  2020-02-24T18:00:00          18  ...                   0            0.00\n",
              "4  2020-02-24T18:00:00          15  ...                   0            0.00\n",
              "\n",
              "[5 rows x 15 columns]"
            ]
          },
          "metadata": {
            "tags": []
          },
          "execution_count": 9
        }
      ]
    },
    {
      "cell_type": "code",
      "metadata": {
        "id": "HSQ4udxOTYKR",
        "colab_type": "code",
        "colab": {
          "base_uri": "https://localhost:8080/",
          "height": 249
        },
        "outputId": "798a8a5c-3a60-420d-bb34-d08d00ef756c"
      },
      "source": [
        "data['Date'] = pd.to_datetime(data['Date'])\n",
        "data['Date'] = data['Date'].map(pd.datetime.toordinal)\n",
        "data.head()"
      ],
      "execution_count": null,
      "outputs": [
        {
          "output_type": "stream",
          "text": [
            "/usr/local/lib/python3.6/dist-packages/ipykernel_launcher.py:2: FutureWarning: The pandas.datetime class is deprecated and will be removed from pandas in a future version. Import from datetime instead.\n",
            "  \n"
          ],
          "name": "stderr"
        },
        {
          "output_type": "execute_result",
          "data": {
            "text/html": [
              "<div>\n",
              "<style scoped>\n",
              "    .dataframe tbody tr th:only-of-type {\n",
              "        vertical-align: middle;\n",
              "    }\n",
              "\n",
              "    .dataframe tbody tr th {\n",
              "        vertical-align: top;\n",
              "    }\n",
              "\n",
              "    .dataframe thead th {\n",
              "        text-align: right;\n",
              "    }\n",
              "</style>\n",
              "<table border=\"1\" class=\"dataframe\">\n",
              "  <thead>\n",
              "    <tr style=\"text-align: right;\">\n",
              "      <th></th>\n",
              "      <th>Date</th>\n",
              "      <th>RegionCode</th>\n",
              "      <th>RegionName</th>\n",
              "      <th>Latitude</th>\n",
              "      <th>Longitude</th>\n",
              "      <th>HospitalizedPatients</th>\n",
              "      <th>IntensiveCarePatients</th>\n",
              "      <th>TotalHospitalizedPatients</th>\n",
              "      <th>HomeConfinement</th>\n",
              "      <th>CurrentPositiveCases</th>\n",
              "      <th>NewPositiveCases</th>\n",
              "      <th>Recovered</th>\n",
              "      <th>Deaths</th>\n",
              "      <th>TotalPositiveCases</th>\n",
              "      <th>TestsPerformed</th>\n",
              "    </tr>\n",
              "  </thead>\n",
              "  <tbody>\n",
              "    <tr>\n",
              "      <th>0</th>\n",
              "      <td>737479</td>\n",
              "      <td>13</td>\n",
              "      <td>0</td>\n",
              "      <td>42.35</td>\n",
              "      <td>13.40</td>\n",
              "      <td>0</td>\n",
              "      <td>0</td>\n",
              "      <td>0</td>\n",
              "      <td>0</td>\n",
              "      <td>0</td>\n",
              "      <td>0</td>\n",
              "      <td>0</td>\n",
              "      <td>0</td>\n",
              "      <td>0</td>\n",
              "      <td>0.00</td>\n",
              "    </tr>\n",
              "    <tr>\n",
              "      <th>1</th>\n",
              "      <td>737479</td>\n",
              "      <td>17</td>\n",
              "      <td>1</td>\n",
              "      <td>40.64</td>\n",
              "      <td>15.81</td>\n",
              "      <td>0</td>\n",
              "      <td>0</td>\n",
              "      <td>0</td>\n",
              "      <td>0</td>\n",
              "      <td>0</td>\n",
              "      <td>0</td>\n",
              "      <td>0</td>\n",
              "      <td>0</td>\n",
              "      <td>0</td>\n",
              "      <td>0.00</td>\n",
              "    </tr>\n",
              "    <tr>\n",
              "      <th>2</th>\n",
              "      <td>737479</td>\n",
              "      <td>21</td>\n",
              "      <td>11</td>\n",
              "      <td>46.50</td>\n",
              "      <td>11.36</td>\n",
              "      <td>0</td>\n",
              "      <td>0</td>\n",
              "      <td>0</td>\n",
              "      <td>0</td>\n",
              "      <td>0</td>\n",
              "      <td>0</td>\n",
              "      <td>0</td>\n",
              "      <td>0</td>\n",
              "      <td>0</td>\n",
              "      <td>0.00</td>\n",
              "    </tr>\n",
              "    <tr>\n",
              "      <th>3</th>\n",
              "      <td>737479</td>\n",
              "      <td>18</td>\n",
              "      <td>2</td>\n",
              "      <td>38.91</td>\n",
              "      <td>16.59</td>\n",
              "      <td>0</td>\n",
              "      <td>0</td>\n",
              "      <td>0</td>\n",
              "      <td>0</td>\n",
              "      <td>0</td>\n",
              "      <td>0</td>\n",
              "      <td>0</td>\n",
              "      <td>0</td>\n",
              "      <td>0</td>\n",
              "      <td>0.00</td>\n",
              "    </tr>\n",
              "    <tr>\n",
              "      <th>4</th>\n",
              "      <td>737479</td>\n",
              "      <td>15</td>\n",
              "      <td>3</td>\n",
              "      <td>40.84</td>\n",
              "      <td>14.25</td>\n",
              "      <td>0</td>\n",
              "      <td>0</td>\n",
              "      <td>0</td>\n",
              "      <td>0</td>\n",
              "      <td>0</td>\n",
              "      <td>0</td>\n",
              "      <td>0</td>\n",
              "      <td>0</td>\n",
              "      <td>0</td>\n",
              "      <td>0.00</td>\n",
              "    </tr>\n",
              "  </tbody>\n",
              "</table>\n",
              "</div>"
            ],
            "text/plain": [
              "     Date  RegionCode  RegionName  ...  Deaths  TotalPositiveCases  TestsPerformed\n",
              "0  737479          13           0  ...       0                   0            0.00\n",
              "1  737479          17           1  ...       0                   0            0.00\n",
              "2  737479          21          11  ...       0                   0            0.00\n",
              "3  737479          18           2  ...       0                   0            0.00\n",
              "4  737479          15           3  ...       0                   0            0.00\n",
              "\n",
              "[5 rows x 15 columns]"
            ]
          },
          "metadata": {
            "tags": []
          },
          "execution_count": 10
        }
      ]
    },
    {
      "cell_type": "code",
      "metadata": {
        "id": "tF5cFe6lUH4j",
        "colab_type": "code",
        "colab": {
          "base_uri": "https://localhost:8080/",
          "height": 215
        },
        "outputId": "0d42335e-da83-4637-fd0d-01168e0c719f"
      },
      "source": [
        "data = data.apply(lambda x: (x - x.min(axis=0)) / (x.max(axis=0) - x.min(axis=0)))\n",
        "data.head()"
      ],
      "execution_count": null,
      "outputs": [
        {
          "output_type": "execute_result",
          "data": {
            "text/html": [
              "<div>\n",
              "<style scoped>\n",
              "    .dataframe tbody tr th:only-of-type {\n",
              "        vertical-align: middle;\n",
              "    }\n",
              "\n",
              "    .dataframe tbody tr th {\n",
              "        vertical-align: top;\n",
              "    }\n",
              "\n",
              "    .dataframe thead th {\n",
              "        text-align: right;\n",
              "    }\n",
              "</style>\n",
              "<table border=\"1\" class=\"dataframe\">\n",
              "  <thead>\n",
              "    <tr style=\"text-align: right;\">\n",
              "      <th></th>\n",
              "      <th>Date</th>\n",
              "      <th>RegionCode</th>\n",
              "      <th>RegionName</th>\n",
              "      <th>Latitude</th>\n",
              "      <th>Longitude</th>\n",
              "      <th>HospitalizedPatients</th>\n",
              "      <th>IntensiveCarePatients</th>\n",
              "      <th>TotalHospitalizedPatients</th>\n",
              "      <th>HomeConfinement</th>\n",
              "      <th>CurrentPositiveCases</th>\n",
              "      <th>NewPositiveCases</th>\n",
              "      <th>Recovered</th>\n",
              "      <th>Deaths</th>\n",
              "      <th>TotalPositiveCases</th>\n",
              "      <th>TestsPerformed</th>\n",
              "    </tr>\n",
              "  </thead>\n",
              "  <tbody>\n",
              "    <tr>\n",
              "      <th>0</th>\n",
              "      <td>0.00</td>\n",
              "      <td>0.57</td>\n",
              "      <td>0.00</td>\n",
              "      <td>0.51</td>\n",
              "      <td>0.64</td>\n",
              "      <td>0.00</td>\n",
              "      <td>0.00</td>\n",
              "      <td>0.00</td>\n",
              "      <td>0.00</td>\n",
              "      <td>0.00</td>\n",
              "      <td>0.07</td>\n",
              "      <td>0.00</td>\n",
              "      <td>0.00</td>\n",
              "      <td>0.00</td>\n",
              "      <td>0.00</td>\n",
              "    </tr>\n",
              "    <tr>\n",
              "      <th>1</th>\n",
              "      <td>0.00</td>\n",
              "      <td>0.76</td>\n",
              "      <td>0.05</td>\n",
              "      <td>0.30</td>\n",
              "      <td>0.89</td>\n",
              "      <td>0.00</td>\n",
              "      <td>0.00</td>\n",
              "      <td>0.00</td>\n",
              "      <td>0.00</td>\n",
              "      <td>0.00</td>\n",
              "      <td>0.07</td>\n",
              "      <td>0.00</td>\n",
              "      <td>0.00</td>\n",
              "      <td>0.00</td>\n",
              "      <td>0.00</td>\n",
              "    </tr>\n",
              "    <tr>\n",
              "      <th>2</th>\n",
              "      <td>0.00</td>\n",
              "      <td>0.95</td>\n",
              "      <td>0.55</td>\n",
              "      <td>1.00</td>\n",
              "      <td>0.42</td>\n",
              "      <td>0.00</td>\n",
              "      <td>0.00</td>\n",
              "      <td>0.00</td>\n",
              "      <td>0.00</td>\n",
              "      <td>0.00</td>\n",
              "      <td>0.07</td>\n",
              "      <td>0.00</td>\n",
              "      <td>0.00</td>\n",
              "      <td>0.00</td>\n",
              "      <td>0.00</td>\n",
              "    </tr>\n",
              "    <tr>\n",
              "      <th>3</th>\n",
              "      <td>0.00</td>\n",
              "      <td>0.81</td>\n",
              "      <td>0.10</td>\n",
              "      <td>0.09</td>\n",
              "      <td>0.97</td>\n",
              "      <td>0.00</td>\n",
              "      <td>0.00</td>\n",
              "      <td>0.00</td>\n",
              "      <td>0.00</td>\n",
              "      <td>0.00</td>\n",
              "      <td>0.07</td>\n",
              "      <td>0.00</td>\n",
              "      <td>0.00</td>\n",
              "      <td>0.00</td>\n",
              "      <td>0.00</td>\n",
              "    </tr>\n",
              "    <tr>\n",
              "      <th>4</th>\n",
              "      <td>0.00</td>\n",
              "      <td>0.67</td>\n",
              "      <td>0.15</td>\n",
              "      <td>0.32</td>\n",
              "      <td>0.73</td>\n",
              "      <td>0.00</td>\n",
              "      <td>0.00</td>\n",
              "      <td>0.00</td>\n",
              "      <td>0.00</td>\n",
              "      <td>0.00</td>\n",
              "      <td>0.07</td>\n",
              "      <td>0.00</td>\n",
              "      <td>0.00</td>\n",
              "      <td>0.00</td>\n",
              "      <td>0.00</td>\n",
              "    </tr>\n",
              "  </tbody>\n",
              "</table>\n",
              "</div>"
            ],
            "text/plain": [
              "   Date  RegionCode  RegionName  ...  Deaths  TotalPositiveCases  TestsPerformed\n",
              "0  0.00        0.57        0.00  ...    0.00                0.00            0.00\n",
              "1  0.00        0.76        0.05  ...    0.00                0.00            0.00\n",
              "2  0.00        0.95        0.55  ...    0.00                0.00            0.00\n",
              "3  0.00        0.81        0.10  ...    0.00                0.00            0.00\n",
              "4  0.00        0.67        0.15  ...    0.00                0.00            0.00\n",
              "\n",
              "[5 rows x 15 columns]"
            ]
          },
          "metadata": {
            "tags": []
          },
          "execution_count": 11
        }
      ]
    },
    {
      "cell_type": "code",
      "metadata": {
        "id": "-ID3JkhPiN1y",
        "colab_type": "code",
        "colab": {
          "base_uri": "https://localhost:8080/",
          "height": 118
        },
        "outputId": "d72e2b2c-0fa4-47a0-f4d3-01fab727504a"
      },
      "source": [
        "data.columns"
      ],
      "execution_count": null,
      "outputs": [
        {
          "output_type": "execute_result",
          "data": {
            "text/plain": [
              "Index(['Date', 'RegionCode', 'RegionName', 'Latitude', 'Longitude',\n",
              "       'HospitalizedPatients', 'IntensiveCarePatients',\n",
              "       'TotalHospitalizedPatients', 'HomeConfinement', 'CurrentPositiveCases',\n",
              "       'NewPositiveCases', 'Recovered', 'Deaths', 'TotalPositiveCases',\n",
              "       'TestsPerformed'],\n",
              "      dtype='object')"
            ]
          },
          "metadata": {
            "tags": []
          },
          "execution_count": 41
        }
      ]
    },
    {
      "cell_type": "code",
      "metadata": {
        "id": "AICcO2FeiMZZ",
        "colab_type": "code",
        "colab": {}
      },
      "source": [
        "X = data[['Date', 'RegionCode', 'RegionName', 'Latitude', 'Longitude', 'HospitalizedPatients', 'IntensiveCarePatients', 'TotalHospitalizedPatients', 'HomeConfinement', \n",
        "          'CurrentPositiveCases', 'NewPositiveCases', 'Recovered', 'Deaths', 'TestsPerformed']]\n",
        "Y = data['TotalPositiveCases']"
      ],
      "execution_count": null,
      "outputs": []
    },
    {
      "cell_type": "code",
      "metadata": {
        "id": "zF6dsykThh6Y",
        "colab_type": "code",
        "colab": {
          "base_uri": "https://localhost:8080/",
          "height": 462
        },
        "outputId": "7ea97689-8632-431b-c37e-74b28a29881f"
      },
      "source": [
        "from sklearn.feature_selection import SelectKBest\n",
        "from sklearn.feature_selection import f_regression\n",
        "bf = SelectKBest(score_func = f_regression, k = 12)\n",
        "fit = bf.fit(X,Y)\n",
        "datascores = pd.DataFrame(fit.scores_)\n",
        "datacolumns = pd.DataFrame(X.columns)\n",
        "featureScores = pd.concat([datacolumns, datascores], axis = 1)\n",
        "featureScores.columns = ['Specs', 'Score']\n",
        "featureScores"
      ],
      "execution_count": null,
      "outputs": [
        {
          "output_type": "execute_result",
          "data": {
            "text/html": [
              "<div>\n",
              "<style scoped>\n",
              "    .dataframe tbody tr th:only-of-type {\n",
              "        vertical-align: middle;\n",
              "    }\n",
              "\n",
              "    .dataframe tbody tr th {\n",
              "        vertical-align: top;\n",
              "    }\n",
              "\n",
              "    .dataframe thead th {\n",
              "        text-align: right;\n",
              "    }\n",
              "</style>\n",
              "<table border=\"1\" class=\"dataframe\">\n",
              "  <thead>\n",
              "    <tr style=\"text-align: right;\">\n",
              "      <th></th>\n",
              "      <th>Specs</th>\n",
              "      <th>Score</th>\n",
              "    </tr>\n",
              "  </thead>\n",
              "  <tbody>\n",
              "    <tr>\n",
              "      <th>0</th>\n",
              "      <td>Date</td>\n",
              "      <td>183.28</td>\n",
              "    </tr>\n",
              "    <tr>\n",
              "      <th>1</th>\n",
              "      <td>RegionCode</td>\n",
              "      <td>614.84</td>\n",
              "    </tr>\n",
              "    <tr>\n",
              "      <th>2</th>\n",
              "      <td>RegionName</td>\n",
              "      <td>1.78</td>\n",
              "    </tr>\n",
              "    <tr>\n",
              "      <th>3</th>\n",
              "      <td>Latitude</td>\n",
              "      <td>268.34</td>\n",
              "    </tr>\n",
              "    <tr>\n",
              "      <th>4</th>\n",
              "      <td>Longitude</td>\n",
              "      <td>322.32</td>\n",
              "    </tr>\n",
              "    <tr>\n",
              "      <th>5</th>\n",
              "      <td>HospitalizedPatients</td>\n",
              "      <td>1757.62</td>\n",
              "    </tr>\n",
              "    <tr>\n",
              "      <th>6</th>\n",
              "      <td>IntensiveCarePatients</td>\n",
              "      <td>779.19</td>\n",
              "    </tr>\n",
              "    <tr>\n",
              "      <th>7</th>\n",
              "      <td>TotalHospitalizedPatients</td>\n",
              "      <td>1645.21</td>\n",
              "    </tr>\n",
              "    <tr>\n",
              "      <th>8</th>\n",
              "      <td>HomeConfinement</td>\n",
              "      <td>8822.00</td>\n",
              "    </tr>\n",
              "    <tr>\n",
              "      <th>9</th>\n",
              "      <td>CurrentPositiveCases</td>\n",
              "      <td>6392.34</td>\n",
              "    </tr>\n",
              "    <tr>\n",
              "      <th>10</th>\n",
              "      <td>NewPositiveCases</td>\n",
              "      <td>565.44</td>\n",
              "    </tr>\n",
              "    <tr>\n",
              "      <th>11</th>\n",
              "      <td>Recovered</td>\n",
              "      <td>19563.41</td>\n",
              "    </tr>\n",
              "    <tr>\n",
              "      <th>12</th>\n",
              "      <td>Deaths</td>\n",
              "      <td>109297.83</td>\n",
              "    </tr>\n",
              "    <tr>\n",
              "      <th>13</th>\n",
              "      <td>TestsPerformed</td>\n",
              "      <td>3188.71</td>\n",
              "    </tr>\n",
              "  </tbody>\n",
              "</table>\n",
              "</div>"
            ],
            "text/plain": [
              "                        Specs     Score\n",
              "0                        Date    183.28\n",
              "1                  RegionCode    614.84\n",
              "2                  RegionName      1.78\n",
              "3                    Latitude    268.34\n",
              "4                   Longitude    322.32\n",
              "5        HospitalizedPatients   1757.62\n",
              "6       IntensiveCarePatients    779.19\n",
              "7   TotalHospitalizedPatients   1645.21\n",
              "8             HomeConfinement   8822.00\n",
              "9        CurrentPositiveCases   6392.34\n",
              "10           NewPositiveCases    565.44\n",
              "11                  Recovered  19563.41\n",
              "12                     Deaths 109297.83\n",
              "13             TestsPerformed   3188.71"
            ]
          },
          "metadata": {
            "tags": []
          },
          "execution_count": 43
        }
      ]
    },
    {
      "cell_type": "code",
      "metadata": {
        "id": "VrlETelGh05C",
        "colab_type": "code",
        "colab": {
          "base_uri": "https://localhost:8080/",
          "height": 168
        },
        "outputId": "5913c38a-5fc1-4a77-f511-55c28d73682c"
      },
      "source": [
        "print(featureScores.nlargest(8, 'Score'))"
      ],
      "execution_count": null,
      "outputs": [
        {
          "output_type": "stream",
          "text": [
            "                        Specs     Score\n",
            "12                     Deaths 109297.83\n",
            "11                  Recovered  19563.41\n",
            "8             HomeConfinement   8822.00\n",
            "9        CurrentPositiveCases   6392.34\n",
            "13             TestsPerformed   3188.71\n",
            "5        HospitalizedPatients   1757.62\n",
            "7   TotalHospitalizedPatients   1645.21\n",
            "6       IntensiveCarePatients    779.19\n"
          ],
          "name": "stdout"
        }
      ]
    },
    {
      "cell_type": "code",
      "metadata": {
        "id": "u5Wm8ugGh5a5",
        "colab_type": "code",
        "colab": {
          "base_uri": "https://localhost:8080/",
          "height": 764
        },
        "outputId": "8bf54ddf-f667-42f6-ecc8-e738a23946fd"
      },
      "source": [
        "import matplotlib.pyplot as plt\n",
        "import seaborn as sns\n",
        "corr_feat = set()\n",
        "corr_mat = X.corr()\n",
        "top_corr_features = corr_mat.index\n",
        "plt.figure(figsize = (14,10))\n",
        "g = sns.heatmap(data[top_corr_features].corr(), annot = True, cmap = \"RdYlGn\")"
      ],
      "execution_count": null,
      "outputs": [
        {
          "output_type": "stream",
          "text": [
            "/usr/local/lib/python3.6/dist-packages/statsmodels/tools/_testing.py:19: FutureWarning: pandas.util.testing is deprecated. Use the functions in the public API at pandas.testing instead.\n",
            "  import pandas.util.testing as tm\n"
          ],
          "name": "stderr"
        },
        {
          "output_type": "display_data",
          "data": {
            "image/png": "[encoded data removed]",
            "text/plain": [
              "<Figure size 1008x720 with 2 Axes>"
            ]
          },
          "metadata": {
            "tags": [],
            "needs_background": "light"
          }
        }
      ]
    },
    {
      "cell_type": "code",
      "metadata": {
        "id": "rk0SxbjoTiuJ",
        "colab_type": "code",
        "colab": {}
      },
      "source": [
        "X = data[['HomeConfinement', 'Deaths', 'CurrentPositiveCases', 'Recovered', 'TestsPerformed']]\n",
        "Y = data['TotalPositiveCases']"
      ],
      "execution_count": null,
      "outputs": []
    },
    {
      "cell_type": "code",
      "metadata": {
        "id": "wBzFMdmWKVNy",
        "colab_type": "code",
        "colab": {}
      },
      "source": [
        "x = X.values\n",
        "y = Y.values"
      ],
      "execution_count": null,
      "outputs": []
    },
    {
      "cell_type": "code",
      "metadata": {
        "id": "hid468B_Enh_",
        "colab_type": "code",
        "colab": {}
      },
      "source": [
        "x_train, x_test, y_train, y_test = train_test_split(x, y, test_size=0.33, random_state=42)"
      ],
      "execution_count": null,
      "outputs": []
    },
    {
      "cell_type": "code",
      "metadata": {
        "id": "1YmMY10AT_RC",
        "colab_type": "code",
        "colab": {}
      },
      "source": [
        "model = keras.models.Sequential()\n",
        " \n",
        "model.add(keras.layers.Dense(8, activation='relu', input_shape=(5,)))\n",
        "model.add(keras.layers.Dense(8, activation='relu'))\n",
        "model.add(keras.layers.Dense(1))\n",
        " \n",
        "model.compile(optimizer= 'Adam', loss='mean_squared_error')"
      ],
      "execution_count": null,
      "outputs": []
    },
    {
      "cell_type": "code",
      "metadata": {
        "id": "L9LOTA7JUlWN",
        "colab_type": "code",
        "colab": {
          "base_uri": "https://localhost:8080/",
          "height": 1000
        },
        "outputId": "53c12eac-0db0-438a-a59c-47c01f1a4950"
      },
      "source": [
        "model.fit(x_train,y_train, epochs=100, callbacks=[keras.callbacks.EarlyStopping(patience=3)])"
      ],
      "execution_count": null,
      "outputs": [
        {
          "output_type": "stream",
          "text": [
            "Epoch 1/100\n",
            " 1/56 [..............................] - ETA: 0s - loss: 8.5344e-07WARNING:tensorflow:Early stopping conditioned on metric `val_loss` which is not available. Available metrics are: loss\n",
            "56/56 [==============================] - 0s 939us/step - loss: 4.3936e-07\n",
            "Epoch 2/100\n",
            "54/56 [===========================>..] - ETA: 0s - loss: 6.5748e-07WARNING:tensorflow:Early stopping conditioned on metric `val_loss` which is not available. Available metrics are: loss\n",
            "56/56 [==============================] - 0s 1ms/step - loss: 6.5167e-07\n",
            "Epoch 3/100\n",
            "53/56 [===========================>..] - ETA: 0s - loss: 6.8492e-07WARNING:tensorflow:Early stopping conditioned on metric `val_loss` which is not available. Available metrics are: loss\n",
            "56/56 [==============================] - 0s 1ms/step - loss: 6.7499e-07\n",
            "Epoch 4/100\n",
            "51/56 [==========================>...] - ETA: 0s - loss: 6.4124e-07WARNING:tensorflow:Early stopping conditioned on metric `val_loss` which is not available. Available metrics are: loss\n",
            "56/56 [==============================] - 0s 1ms/step - loss: 6.3032e-07\n",
            "Epoch 5/100\n",
            "55/56 [============================>.] - ETA: 0s - loss: 4.9871e-07WARNING:tensorflow:Early stopping conditioned on metric `val_loss` which is not available. Available metrics are: loss\n",
            "56/56 [==============================] - 0s 1ms/step - loss: 4.9877e-07\n",
            "Epoch 6/100\n",
            "56/56 [==============================] - ETA: 0s - loss: 4.0780e-07WARNING:tensorflow:Early stopping conditioned on metric `val_loss` which is not available. Available metrics are: loss\n",
            "56/56 [==============================] - 0s 948us/step - loss: 4.0780e-07\n",
            "Epoch 7/100\n",
            "53/56 [===========================>..] - ETA: 0s - loss: 3.8820e-07WARNING:tensorflow:Early stopping conditioned on metric `val_loss` which is not available. Available metrics are: loss\n",
            "56/56 [==============================] - 0s 1ms/step - loss: 4.3922e-07\n",
            "Epoch 8/100\n",
            "47/56 [========================>.....] - ETA: 0s - loss: 8.8093e-07WARNING:tensorflow:Early stopping conditioned on metric `val_loss` which is not available. Available metrics are: loss\n",
            "56/56 [==============================] - 0s 1ms/step - loss: 7.9506e-07\n",
            "Epoch 9/100\n",
            "53/56 [===========================>..] - ETA: 0s - loss: 5.5658e-07WARNING:tensorflow:Early stopping conditioned on metric `val_loss` which is not available. Available metrics are: loss\n",
            "56/56 [==============================] - 0s 1ms/step - loss: 5.6332e-07\n",
            "Epoch 10/100\n",
            "52/56 [==========================>...] - ETA: 0s - loss: 1.2114e-06WARNING:tensorflow:Early stopping conditioned on metric `val_loss` which is not available. Available metrics are: loss\n",
            "56/56 [==============================] - 0s 1ms/step - loss: 1.1998e-06\n",
            "Epoch 11/100\n",
            "52/56 [==========================>...] - ETA: 0s - loss: 5.4662e-07WARNING:tensorflow:Early stopping conditioned on metric `val_loss` which is not available. Available metrics are: loss\n",
            "56/56 [==============================] - 0s 1ms/step - loss: 5.4460e-07\n",
            "Epoch 12/100\n",
            " 1/56 [..............................] - ETA: 0s - loss: 1.9112e-07WARNING:tensorflow:Early stopping conditioned on metric `val_loss` which is not available. Available metrics are: loss\n",
            "56/56 [==============================] - 0s 939us/step - loss: 3.2952e-07\n",
            "Epoch 13/100\n",
            "48/56 [========================>.....] - ETA: 0s - loss: 4.9795e-07WARNING:tensorflow:Early stopping conditioned on metric `val_loss` which is not available. Available metrics are: loss\n",
            "56/56 [==============================] - 0s 1ms/step - loss: 5.0902e-07\n",
            "Epoch 14/100\n",
            "55/56 [============================>.] - ETA: 0s - loss: 5.6883e-07WARNING:tensorflow:Early stopping conditioned on metric `val_loss` which is not available. Available metrics are: loss\n",
            "56/56 [==============================] - 0s 1ms/step - loss: 5.6851e-07\n",
            "Epoch 15/100\n",
            "52/56 [==========================>...] - ETA: 0s - loss: 4.7016e-07WARNING:tensorflow:Early stopping conditioned on metric `val_loss` which is not available. Available metrics are: loss\n",
            "56/56 [==============================] - 0s 1ms/step - loss: 5.3097e-07\n",
            "Epoch 16/100\n",
            "50/56 [=========================>....] - ETA: 0s - loss: 1.1408e-06WARNING:tensorflow:Early stopping conditioned on metric `val_loss` which is not available. Available metrics are: loss\n",
            "56/56 [==============================] - 0s 1ms/step - loss: 1.0550e-06\n",
            "Epoch 17/100\n",
            "43/56 [======================>.......] - ETA: 0s - loss: 3.0532e-07WARNING:tensorflow:Early stopping conditioned on metric `val_loss` which is not available. Available metrics are: loss\n",
            "56/56 [==============================] - 0s 1ms/step - loss: 3.2195e-07\n",
            "Epoch 18/100\n",
            "55/56 [============================>.] - ETA: 0s - loss: 1.0291e-06WARNING:tensorflow:Early stopping conditioned on metric `val_loss` which is not available. Available metrics are: loss\n",
            "56/56 [==============================] - 0s 1ms/step - loss: 1.0249e-06\n",
            "Epoch 19/100\n",
            "52/56 [==========================>...] - ETA: 0s - loss: 4.0158e-07WARNING:tensorflow:Early stopping conditioned on metric `val_loss` which is not available. Available metrics are: loss\n",
            "56/56 [==============================] - 0s 1ms/step - loss: 4.1283e-07\n",
            "Epoch 20/100\n",
            "54/56 [===========================>..] - ETA: 0s - loss: 3.7081e-07WARNING:tensorflow:Early stopping conditioned on metric `val_loss` which is not available. Available metrics are: loss\n",
            "56/56 [==============================] - 0s 1ms/step - loss: 3.7524e-07\n",
            "Epoch 21/100\n",
            "55/56 [============================>.] - ETA: 0s - loss: 5.0124e-07WARNING:tensorflow:Early stopping conditioned on metric `val_loss` which is not available. Available metrics are: loss\n",
            "56/56 [==============================] - 0s 1ms/step - loss: 4.9981e-07\n",
            "Epoch 22/100\n",
            "53/56 [===========================>..] - ETA: 0s - loss: 5.0080e-07WARNING:tensorflow:Early stopping conditioned on metric `val_loss` which is not available. Available metrics are: loss\n",
            "56/56 [==============================] - 0s 1ms/step - loss: 4.8880e-07\n",
            "Epoch 23/100\n",
            "44/56 [======================>.......] - ETA: 0s - loss: 4.1668e-07WARNING:tensorflow:Early stopping conditioned on metric `val_loss` which is not available. Available metrics are: loss\n",
            "56/56 [==============================] - 0s 1ms/step - loss: 3.9462e-07\n",
            "Epoch 24/100\n",
            "53/56 [===========================>..] - ETA: 0s - loss: 4.5231e-07WARNING:tensorflow:Early stopping conditioned on metric `val_loss` which is not available. Available metrics are: loss\n",
            "56/56 [==============================] - 0s 1ms/step - loss: 4.6409e-07\n",
            "Epoch 25/100\n",
            "50/56 [=========================>....] - ETA: 0s - loss: 5.0250e-07WARNING:tensorflow:Early stopping conditioned on metric `val_loss` which is not available. Available metrics are: loss\n",
            "56/56 [==============================] - 0s 1ms/step - loss: 5.0548e-07\n",
            "Epoch 26/100\n",
            "34/56 [=================>............] - ETA: 0s - loss: 5.2059e-07WARNING:tensorflow:Early stopping conditioned on metric `val_loss` which is not available. Available metrics are: loss\n",
            "56/56 [==============================] - 0s 1ms/step - loss: 6.2141e-07\n",
            "Epoch 27/100\n",
            "51/56 [==========================>...] - ETA: 0s - loss: 3.3632e-07WARNING:tensorflow:Early stopping conditioned on metric `val_loss` which is not available. Available metrics are: loss\n",
            "56/56 [==============================] - 0s 1ms/step - loss: 3.4150e-07\n",
            "Epoch 28/100\n",
            "36/56 [==================>...........] - ETA: 0s - loss: 1.0666e-06WARNING:tensorflow:Early stopping conditioned on metric `val_loss` which is not available. Available metrics are: loss\n",
            "56/56 [==============================] - 0s 1ms/step - loss: 1.0247e-06\n",
            "Epoch 29/100\n",
            "52/56 [==========================>...] - ETA: 0s - loss: 4.7216e-07WARNING:tensorflow:Early stopping conditioned on metric `val_loss` which is not available. Available metrics are: loss\n",
            "56/56 [==============================] - 0s 1ms/step - loss: 4.7143e-07\n",
            "Epoch 30/100\n",
            "51/56 [==========================>...] - ETA: 0s - loss: 4.8025e-07WARNING:tensorflow:Early stopping conditioned on metric `val_loss` which is not available. Available metrics are: loss\n",
            "56/56 [==============================] - 0s 1ms/step - loss: 4.9026e-07\n",
            "Epoch 31/100\n",
            "51/56 [==========================>...] - ETA: 0s - loss: 3.0816e-07WARNING:tensorflow:Early stopping conditioned on metric `val_loss` which is not available. Available metrics are: loss\n",
            "56/56 [==============================] - 0s 1ms/step - loss: 2.9531e-07\n",
            "Epoch 32/100\n",
            "48/56 [========================>.....] - ETA: 0s - loss: 3.2006e-07WARNING:tensorflow:Early stopping conditioned on metric `val_loss` which is not available. Available metrics are: loss\n",
            "56/56 [==============================] - 0s 1ms/step - loss: 3.8682e-07\n",
            "Epoch 33/100\n",
            "56/56 [==============================] - ETA: 0s - loss: 3.3028e-06WARNING:tensorflow:Early stopping conditioned on metric `val_loss` which is not available. Available metrics are: loss\n",
            "56/56 [==============================] - 0s 1ms/step - loss: 3.3028e-06\n",
            "Epoch 34/100\n",
            "50/56 [=========================>....] - ETA: 0s - loss: 2.1336e-06WARNING:tensorflow:Early stopping conditioned on metric `val_loss` which is not available. Available metrics are: loss\n",
            "56/56 [==============================] - 0s 1ms/step - loss: 1.9543e-06\n",
            "Epoch 35/100\n",
            "52/56 [==========================>...] - ETA: 0s - loss: 6.2486e-07WARNING:tensorflow:Early stopping conditioned on metric `val_loss` which is not available. Available metrics are: loss\n",
            "56/56 [==============================] - 0s 1ms/step - loss: 6.2589e-07\n",
            "Epoch 36/100\n",
            "55/56 [============================>.] - ETA: 0s - loss: 1.7283e-06WARNING:tensorflow:Early stopping conditioned on metric `val_loss` which is not available. Available metrics are: loss\n",
            "56/56 [==============================] - 0s 1ms/step - loss: 1.7216e-06\n",
            "Epoch 37/100\n",
            "52/56 [==========================>...] - ETA: 0s - loss: 2.6669e-07WARNING:tensorflow:Early stopping conditioned on metric `val_loss` which is not available. Available metrics are: loss\n",
            "56/56 [==============================] - 0s 1ms/step - loss: 2.6004e-07\n",
            "Epoch 38/100\n",
            "50/56 [=========================>....] - ETA: 0s - loss: 4.6474e-07WARNING:tensorflow:Early stopping conditioned on metric `val_loss` which is not available. Available metrics are: loss\n",
            "56/56 [==============================] - 0s 1ms/step - loss: 4.3978e-07\n",
            "Epoch 39/100\n",
            " 1/56 [..............................] - ETA: 0s - loss: 2.4198e-08WARNING:tensorflow:Early stopping conditioned on metric `val_loss` which is not available. Available metrics are: loss\n",
            "56/56 [==============================] - 0s 906us/step - loss: 4.6242e-07\n",
            "Epoch 40/100\n",
            "47/56 [========================>.....] - ETA: 0s - loss: 7.2852e-07WARNING:tensorflow:Early stopping conditioned on metric `val_loss` which is not available. Available metrics are: loss\n",
            "56/56 [==============================] - 0s 1ms/step - loss: 7.4484e-07\n",
            "Epoch 41/100\n",
            "55/56 [============================>.] - ETA: 0s - loss: 3.5949e-07WARNING:tensorflow:Early stopping conditioned on metric `val_loss` which is not available. Available metrics are: loss\n",
            "56/56 [==============================] - 0s 1ms/step - loss: 3.5797e-07\n",
            "Epoch 42/100\n",
            "56/56 [==============================] - ETA: 0s - loss: 2.7774e-07WARNING:tensorflow:Early stopping conditioned on metric `val_loss` which is not available. Available metrics are: loss\n",
            "56/56 [==============================] - 0s 970us/step - loss: 2.7774e-07\n",
            "Epoch 43/100\n",
            "45/56 [=======================>......] - ETA: 0s - loss: 3.7330e-07WARNING:tensorflow:Early stopping conditioned on metric `val_loss` which is not available. Available metrics are: loss\n",
            "56/56 [==============================] - 0s 1ms/step - loss: 3.6450e-07\n",
            "Epoch 44/100\n",
            " 1/56 [..............................] - ETA: 0s - loss: 5.1399e-07WARNING:tensorflow:Early stopping conditioned on metric `val_loss` which is not available. Available metrics are: loss\n",
            "56/56 [==============================] - 0s 912us/step - loss: 3.2952e-07\n",
            "Epoch 45/100\n",
            " 1/56 [..............................] - ETA: 0s - loss: 7.2891e-08WARNING:tensorflow:Early stopping conditioned on metric `val_loss` which is not available. Available metrics are: loss\n",
            "56/56 [==============================] - 0s 896us/step - loss: 3.4857e-07\n",
            "Epoch 46/100\n",
            "56/56 [==============================] - ETA: 0s - loss: 3.3920e-07WARNING:tensorflow:Early stopping conditioned on metric `val_loss` which is not available. Available metrics are: loss\n",
            "56/56 [==============================] - 0s 1ms/step - loss: 3.3920e-07\n",
            "Epoch 47/100\n",
            "52/56 [==========================>...] - ETA: 0s - loss: 2.4282e-07WARNING:tensorflow:Early stopping conditioned on metric `val_loss` which is not available. Available metrics are: loss\n",
            "56/56 [==============================] - 0s 1ms/step - loss: 2.5264e-07\n",
            "Epoch 48/100\n",
            "55/56 [============================>.] - ETA: 0s - loss: 2.7746e-07WARNING:tensorflow:Early stopping conditioned on metric `val_loss` which is not available. Available metrics are: loss\n",
            "56/56 [==============================] - 0s 1ms/step - loss: 2.8375e-07\n",
            "Epoch 49/100\n",
            "54/56 [===========================>..] - ETA: 0s - loss: 7.2592e-07WARNING:tensorflow:Early stopping conditioned on metric `val_loss` which is not available. Available metrics are: loss\n",
            "56/56 [==============================] - 0s 1ms/step - loss: 7.1214e-07\n",
            "Epoch 50/100\n",
            "49/56 [=========================>....] - ETA: 0s - loss: 2.4375e-07WARNING:tensorflow:Early stopping conditioned on metric `val_loss` which is not available. Available metrics are: loss\n",
            "56/56 [==============================] - 0s 1ms/step - loss: 2.4927e-07\n",
            "Epoch 51/100\n",
            "56/56 [==============================] - ETA: 0s - loss: 4.0883e-07WARNING:tensorflow:Early stopping conditioned on metric `val_loss` which is not available. Available metrics are: loss\n",
            "56/56 [==============================] - 0s 933us/step - loss: 4.0883e-07\n",
            "Epoch 52/100\n",
            "56/56 [==============================] - ETA: 0s - loss: 3.8774e-07WARNING:tensorflow:Early stopping conditioned on metric `val_loss` which is not available. Available metrics are: loss\n",
            "56/56 [==============================] - 0s 990us/step - loss: 3.8774e-07\n",
            "Epoch 53/100\n",
            "50/56 [=========================>....] - ETA: 0s - loss: 6.1915e-06WARNING:tensorflow:Early stopping conditioned on metric `val_loss` which is not available. Available metrics are: loss\n",
            "56/56 [==============================] - 0s 1ms/step - loss: 5.6640e-06\n",
            "Epoch 54/100\n",
            "56/56 [==============================] - ETA: 0s - loss: 4.1489e-07WARNING:tensorflow:Early stopping conditioned on metric `val_loss` which is not available. Available metrics are: loss\n",
            "56/56 [==============================] - 0s 981us/step - loss: 4.1489e-07\n",
            "Epoch 55/100\n",
            "56/56 [==============================] - ETA: 0s - loss: 5.1233e-07WARNING:tensorflow:Early stopping conditioned on metric `val_loss` which is not available. Available metrics are: loss\n",
            "56/56 [==============================] - 0s 980us/step - loss: 5.1233e-07\n",
            "Epoch 56/100\n",
            "55/56 [============================>.] - ETA: 0s - loss: 4.0602e-07WARNING:tensorflow:Early stopping conditioned on metric `val_loss` which is not available. Available metrics are: loss\n",
            "56/56 [==============================] - 0s 982us/step - loss: 4.0729e-07\n",
            "Epoch 57/100\n",
            "52/56 [==========================>...] - ETA: 0s - loss: 7.8993e-07WARNING:tensorflow:Early stopping conditioned on metric `val_loss` which is not available. Available metrics are: loss\n",
            "56/56 [==============================] - 0s 1ms/step - loss: 7.6163e-07\n",
            "Epoch 58/100\n",
            "50/56 [=========================>....] - ETA: 0s - loss: 3.4971e-07WARNING:tensorflow:Early stopping conditioned on metric `val_loss` which is not available. Available metrics are: loss\n",
            "56/56 [==============================] - 0s 1ms/step - loss: 3.5614e-07\n",
            "Epoch 59/100\n",
            "45/56 [=======================>......] - ETA: 0s - loss: 2.5662e-07WARNING:tensorflow:Early stopping conditioned on metric `val_loss` which is not available. Available metrics are: loss\n",
            "56/56 [==============================] - 0s 1ms/step - loss: 2.4840e-07\n",
            "Epoch 60/100\n",
            "53/56 [===========================>..] - ETA: 0s - loss: 6.5363e-07WARNING:tensorflow:Early stopping conditioned on metric `val_loss` which is not available. Available metrics are: loss\n",
            "56/56 [==============================] - 0s 1ms/step - loss: 6.3203e-07\n",
            "Epoch 61/100\n",
            "50/56 [=========================>....] - ETA: 0s - loss: 2.2805e-07WARNING:tensorflow:Early stopping conditioned on metric `val_loss` which is not available. Available metrics are: loss\n",
            "56/56 [==============================] - 0s 1ms/step - loss: 2.9171e-07\n",
            "Epoch 62/100\n",
            "50/56 [=========================>....] - ETA: 0s - loss: 6.7729e-07WARNING:tensorflow:Early stopping conditioned on metric `val_loss` which is not available. Available metrics are: loss\n",
            "56/56 [==============================] - 0s 1ms/step - loss: 6.9934e-07\n",
            "Epoch 63/100\n",
            "52/56 [==========================>...] - ETA: 0s - loss: 4.4603e-07WARNING:tensorflow:Early stopping conditioned on metric `val_loss` which is not available. Available metrics are: loss\n",
            "56/56 [==============================] - 0s 1ms/step - loss: 4.3196e-07\n",
            "Epoch 64/100\n",
            "47/56 [========================>.....] - ETA: 0s - loss: 4.0291e-07WARNING:tensorflow:Early stopping conditioned on metric `val_loss` which is not available. Available metrics are: loss\n",
            "56/56 [==============================] - 0s 1ms/step - loss: 4.2517e-07\n",
            "Epoch 65/100\n",
            "52/56 [==========================>...] - ETA: 0s - loss: 8.8307e-07WARNING:tensorflow:Early stopping conditioned on metric `val_loss` which is not available. Available metrics are: loss\n",
            "56/56 [==============================] - 0s 1ms/step - loss: 8.3943e-07\n",
            "Epoch 66/100\n",
            "52/56 [==========================>...] - ETA: 0s - loss: 2.8463e-07WARNING:tensorflow:Early stopping conditioned on metric `val_loss` which is not available. Available metrics are: loss\n",
            "56/56 [==============================] - 0s 1ms/step - loss: 2.7740e-07\n",
            "Epoch 67/100\n",
            "54/56 [===========================>..] - ETA: 0s - loss: 2.5315e-07WARNING:tensorflow:Early stopping conditioned on metric `val_loss` which is not available. Available metrics are: loss\n",
            "56/56 [==============================] - 0s 1ms/step - loss: 2.5862e-07\n",
            "Epoch 68/100\n",
            " 1/56 [..............................] - ETA: 0s - loss: 1.1482e-07WARNING:tensorflow:Early stopping conditioned on metric `val_loss` which is not available. Available metrics are: loss\n",
            "56/56 [==============================] - 0s 915us/step - loss: 6.3251e-07\n",
            "Epoch 69/100\n",
            "52/56 [==========================>...] - ETA: 0s - loss: 9.1076e-07WARNING:tensorflow:Early stopping conditioned on metric `val_loss` which is not available. Available metrics are: loss\n",
            "56/56 [==============================] - 0s 1ms/step - loss: 8.8490e-07\n",
            "Epoch 70/100\n",
            "50/56 [=========================>....] - ETA: 0s - loss: 2.8959e-07WARNING:tensorflow:Early stopping conditioned on metric `val_loss` which is not available. Available metrics are: loss\n",
            "56/56 [==============================] - 0s 1ms/step - loss: 2.7892e-07\n",
            "Epoch 71/100\n",
            "48/56 [========================>.....] - ETA: 0s - loss: 2.8388e-07WARNING:tensorflow:Early stopping conditioned on metric `val_loss` which is not available. Available metrics are: loss\n",
            "56/56 [==============================] - 0s 1ms/step - loss: 6.5459e-07\n",
            "Epoch 72/100\n",
            "53/56 [===========================>..] - ETA: 0s - loss: 2.4429e-06WARNING:tensorflow:Early stopping conditioned on metric `val_loss` which is not available. Available metrics are: loss\n",
            "56/56 [==============================] - 0s 1ms/step - loss: 2.3491e-06\n",
            "Epoch 73/100\n",
            "48/56 [========================>.....] - ETA: 0s - loss: 5.1442e-07WARNING:tensorflow:Early stopping conditioned on metric `val_loss` which is not available. Available metrics are: loss\n",
            "56/56 [==============================] - 0s 1ms/step - loss: 5.0140e-07\n",
            "Epoch 74/100\n",
            "53/56 [===========================>..] - ETA: 0s - loss: 2.8568e-07WARNING:tensorflow:Early stopping conditioned on metric `val_loss` which is not available. Available metrics are: loss\n",
            "56/56 [==============================] - 0s 1ms/step - loss: 2.8686e-07\n",
            "Epoch 75/100\n",
            "46/56 [=======================>......] - ETA: 0s - loss: 3.3060e-06WARNING:tensorflow:Early stopping conditioned on metric `val_loss` which is not available. Available metrics are: loss\n",
            "56/56 [==============================] - 0s 1ms/step - loss: 3.0271e-06\n",
            "Epoch 76/100\n",
            " 1/56 [..............................] - ETA: 0s - loss: 3.9584e-06WARNING:tensorflow:Early stopping conditioned on metric `val_loss` which is not available. Available metrics are: loss\n",
            "56/56 [==============================] - 0s 907us/step - loss: 3.1906e-06\n",
            "Epoch 77/100\n",
            "55/56 [============================>.] - ETA: 0s - loss: 1.8159e-06WARNING:tensorflow:Early stopping conditioned on metric `val_loss` which is not available. Available metrics are: loss\n",
            "56/56 [==============================] - 0s 979us/step - loss: 1.8079e-06\n",
            "Epoch 78/100\n",
            "50/56 [=========================>....] - ETA: 0s - loss: 3.0945e-07WARNING:tensorflow:Early stopping conditioned on metric `val_loss` which is not available. Available metrics are: loss\n",
            "56/56 [==============================] - 0s 1ms/step - loss: 3.7720e-07\n",
            "Epoch 79/100\n",
            "55/56 [============================>.] - ETA: 0s - loss: 2.7642e-06WARNING:tensorflow:Early stopping conditioned on metric `val_loss` which is not available. Available metrics are: loss\n",
            "56/56 [==============================] - 0s 1ms/step - loss: 2.7552e-06\n",
            "Epoch 80/100\n",
            "54/56 [===========================>..] - ETA: 0s - loss: 4.2473e-07WARNING:tensorflow:Early stopping conditioned on metric `val_loss` which is not available. Available metrics are: loss\n",
            "56/56 [==============================] - 0s 1ms/step - loss: 4.2874e-07\n",
            "Epoch 81/100\n",
            "53/56 [===========================>..] - ETA: 0s - loss: 4.9233e-07WARNING:tensorflow:Early stopping conditioned on metric `val_loss` which is not available. Available metrics are: loss\n",
            "56/56 [==============================] - 0s 1ms/step - loss: 4.9584e-07\n",
            "Epoch 82/100\n",
            "56/56 [==============================] - ETA: 0s - loss: 5.0954e-07WARNING:tensorflow:Early stopping conditioned on metric `val_loss` which is not available. Available metrics are: loss\n",
            "56/56 [==============================] - 0s 965us/step - loss: 5.0954e-07\n",
            "Epoch 83/100\n",
            "50/56 [=========================>....] - ETA: 0s - loss: 2.1876e-07WARNING:tensorflow:Early stopping conditioned on metric `val_loss` which is not available. Available metrics are: loss\n",
            "56/56 [==============================] - 0s 1ms/step - loss: 2.1446e-07\n",
            "Epoch 84/100\n",
            " 1/56 [..............................] - ETA: 0s - loss: 1.0318e-08WARNING:tensorflow:Early stopping conditioned on metric `val_loss` which is not available. Available metrics are: loss\n",
            "56/56 [==============================] - 0s 903us/step - loss: 1.4869e-07\n",
            "Epoch 85/100\n",
            "55/56 [============================>.] - ETA: 0s - loss: 4.9268e-07WARNING:tensorflow:Early stopping conditioned on metric `val_loss` which is not available. Available metrics are: loss\n",
            "56/56 [==============================] - 0s 1ms/step - loss: 4.9247e-07\n",
            "Epoch 86/100\n",
            "53/56 [===========================>..] - ETA: 0s - loss: 5.8659e-06WARNING:tensorflow:Early stopping conditioned on metric `val_loss` which is not available. Available metrics are: loss\n",
            "56/56 [==============================] - 0s 1ms/step - loss: 5.6848e-06\n",
            "Epoch 87/100\n",
            "56/56 [==============================] - ETA: 0s - loss: 5.6789e-07WARNING:tensorflow:Early stopping conditioned on metric `val_loss` which is not available. Available metrics are: loss\n",
            "56/56 [==============================] - 0s 937us/step - loss: 5.6789e-07\n",
            "Epoch 88/100\n",
            "52/56 [==========================>...] - ETA: 0s - loss: 2.8351e-06WARNING:tensorflow:Early stopping conditioned on metric `val_loss` which is not available. Available metrics are: loss\n",
            "56/56 [==============================] - 0s 1ms/step - loss: 2.7310e-06\n",
            "Epoch 89/100\n",
            "49/56 [=========================>....] - ETA: 0s - loss: 1.7716e-06WARNING:tensorflow:Early stopping conditioned on metric `val_loss` which is not available. Available metrics are: loss\n",
            "56/56 [==============================] - 0s 1ms/step - loss: 1.5977e-06\n",
            "Epoch 90/100\n",
            " 1/56 [..............................] - ETA: 0s - loss: 5.8879e-07WARNING:tensorflow:Early stopping conditioned on metric `val_loss` which is not available. Available metrics are: loss\n",
            "56/56 [==============================] - 0s 908us/step - loss: 2.7036e-07\n",
            "Epoch 91/100\n",
            "42/56 [=====================>........] - ETA: 0s - loss: 1.1257e-06WARNING:tensorflow:Early stopping conditioned on metric `val_loss` which is not available. Available metrics are: loss\n",
            "56/56 [==============================] - 0s 1ms/step - loss: 1.1767e-06\n",
            "Epoch 92/100\n",
            "51/56 [==========================>...] - ETA: 0s - loss: 6.1615e-07WARNING:tensorflow:Early stopping conditioned on metric `val_loss` which is not available. Available metrics are: loss\n",
            "56/56 [==============================] - 0s 1ms/step - loss: 5.8734e-07\n",
            "Epoch 93/100\n",
            "54/56 [===========================>..] - ETA: 0s - loss: 2.6164e-07WARNING:tensorflow:Early stopping conditioned on metric `val_loss` which is not available. Available metrics are: loss\n",
            "56/56 [==============================] - 0s 1ms/step - loss: 2.6426e-07\n",
            "Epoch 94/100\n",
            " 1/56 [..............................] - ETA: 0s - loss: 2.8093e-07WARNING:tensorflow:Early stopping conditioned on metric `val_loss` which is not available. Available metrics are: loss\n",
            "56/56 [==============================] - 0s 912us/step - loss: 1.9168e-07\n",
            "Epoch 95/100\n",
            "45/56 [=======================>......] - ETA: 0s - loss: 1.3247e-06WARNING:tensorflow:Early stopping conditioned on metric `val_loss` which is not available. Available metrics are: loss\n",
            "56/56 [==============================] - 0s 1ms/step - loss: 1.2398e-06\n",
            "Epoch 96/100\n",
            "52/56 [==========================>...] - ETA: 0s - loss: 8.5143e-07WARNING:tensorflow:Early stopping conditioned on metric `val_loss` which is not available. Available metrics are: loss\n",
            "56/56 [==============================] - 0s 1ms/step - loss: 8.3664e-07\n",
            "Epoch 97/100\n",
            "54/56 [===========================>..] - ETA: 0s - loss: 3.6734e-07WARNING:tensorflow:Early stopping conditioned on metric `val_loss` which is not available. Available metrics are: loss\n",
            "56/56 [==============================] - 0s 1ms/step - loss: 3.6599e-07\n",
            "Epoch 98/100\n",
            "53/56 [===========================>..] - ETA: 0s - loss: 4.3610e-07WARNING:tensorflow:Early stopping conditioned on metric `val_loss` which is not available. Available metrics are: loss\n",
            "56/56 [==============================] - 0s 1ms/step - loss: 4.2230e-07\n",
            "Epoch 99/100\n",
            " 1/56 [..............................] - ETA: 0s - loss: 8.3386e-07WARNING:tensorflow:Early stopping conditioned on metric `val_loss` which is not available. Available metrics are: loss\n",
            "56/56 [==============================] - 0s 899us/step - loss: 1.9604e-07\n",
            "Epoch 100/100\n",
            "53/56 [===========================>..] - ETA: 0s - loss: 1.3421e-07WARNING:tensorflow:Early stopping conditioned on metric `val_loss` which is not available. Available metrics are: loss\n",
            "56/56 [==============================] - 0s 1ms/step - loss: 1.3431e-07\n"
          ],
          "name": "stdout"
        },
        {
          "output_type": "execute_result",
          "data": {
            "text/plain": [
              "<tensorflow.python.keras.callbacks.History at 0x7fb1290bdc18>"
            ]
          },
          "metadata": {
            "tags": []
          },
          "execution_count": 98
        }
      ]
    },
    {
      "cell_type": "code",
      "metadata": {
        "id": "_g4aHBo8Um5e",
        "colab_type": "code",
        "colab": {
          "base_uri": "https://localhost:8080/",
          "height": 34
        },
        "outputId": "b00af2ca-7a3d-480b-ce59-eaff33c40aa8"
      },
      "source": [
        "from sklearn import metrics\n",
        "pred = model.predict(x_test)  \n",
        "MSE = metrics.mean_squared_error(pred, y_test)\n",
        "print(\"Final score (MSE): {:.10f}\".format(MSE))"
      ],
      "execution_count": null,
      "outputs": [
        {
          "output_type": "stream",
          "text": [
            "Final score (MSE): 0.0000001890\n"
          ],
          "name": "stdout"
        }
      ]
    },
    {
      "cell_type": "code",
      "metadata": {
        "id": "zPeSfB0tGEmB",
        "colab_type": "code",
        "colab": {
          "base_uri": "https://localhost:8080/",
          "height": 34
        },
        "outputId": "4feb3acd-457e-48d3-d441-dbe17fd16810"
      },
      "source": [
        "RMSE = np.sqrt(metrics.mean_squared_error(pred, y_test))\n",
        "print(\"Final score (RMSE): {:.10f}\".format(RMSE))"
      ],
      "execution_count": null,
      "outputs": [
        {
          "output_type": "stream",
          "text": [
            "Final score (RMSE): 0.0004347602\n"
          ],
          "name": "stdout"
        }
      ]
    },
    {
      "cell_type": "code",
      "metadata": {
        "id": "NqHLP4Gw-PVS",
        "colab_type": "code",
        "colab": {
          "base_uri": "https://localhost:8080/",
          "height": 34
        },
        "outputId": "b7042b87-253c-48d5-eb5c-f442c4eac06b"
      },
      "source": [
        "MAE = metrics.mean_absolute_error(pred, y_test)\n",
        "print(\"Final score (MAE): {:.10f}\".format(MAE))"
      ],
      "execution_count": null,
      "outputs": [
        {
          "output_type": "stream",
          "text": [
            "Final score (MAE): 0.0003731635\n"
          ],
          "name": "stdout"
        }
      ]
    },
    {
      "cell_type": "code",
      "metadata": {
        "id": "dAsJo8i8HlRE",
        "colab_type": "code",
        "colab": {}
      },
      "source": [
        "import matplotlib.pyplot as plt\n",
        "from scipy.stats import zscore\n",
        "def chart_regression(pred, y, sort=True):\n",
        "    t = pd.DataFrame({'pred': pred, 'y': y.flatten()})\n",
        "    if sort:\n",
        "        t.sort_values(by=['y'], inplace=True)\n",
        "    plt.plot(t['y'].tolist(), label='expected')\n",
        "    plt.plot(t['pred'].tolist(), label='prediction')\n",
        "    plt.ylabel('output')\n",
        "    plt.legend()\n",
        "    plt.show()"
      ],
      "execution_count": null,
      "outputs": []
    },
    {
      "cell_type": "code",
      "metadata": {
        "id": "IvlizF8_HoZ4",
        "colab_type": "code",
        "colab": {
          "base_uri": "https://localhost:8080/",
          "height": 265
        },
        "outputId": "c7cb6150-0e4a-4882-ca34-88d748db6abf"
      },
      "source": [
        "chart_regression(pred.flatten(),y_test)"
      ],
      "execution_count": null,
      "outputs": [
        {
          "output_type": "display_data",
          "data": {
            "image/png": "[encoded data removed]",
            "text/plain": [
              "<Figure size 432x288 with 1 Axes>"
            ]
          },
          "metadata": {
            "tags": [],
            "needs_background": "light"
          }
        }
      ]
    },
    {
      "cell_type": "code",
      "metadata": {
        "id": "iaSuK5sFHz3a",
        "colab_type": "code",
        "colab": {
          "base_uri": "https://localhost:8080/",
          "height": 34
        },
        "outputId": "aa9f640b-891b-4dd1-effa-950e91752983"
      },
      "source": [
        "from sklearn.metrics import r2_score\n",
        "r2_score(y_test, pred, multioutput='variance_weighted')"
      ],
      "execution_count": null,
      "outputs": [
        {
          "output_type": "execute_result",
          "data": {
            "text/plain": [
              "0.9999926224009906"
            ]
          },
          "metadata": {
            "tags": []
          },
          "execution_count": 104
        }
      ]
    },
    {
      "cell_type": "code",
      "metadata": {
        "id": "mlKCstvJVJ2W",
        "colab_type": "code",
        "colab": {
          "base_uri": "https://localhost:8080/",
          "height": 195
        },
        "outputId": "f2b58ebf-488d-4a3e-d359-c2e7c49107b6"
      },
      "source": [
        "predict = pd.read_excel('drive/My Drive/Predict.xlsx')\n",
        "predict.tail()"
      ],
      "execution_count": null,
      "outputs": [
        {
          "output_type": "execute_result",
          "data": {
            "text/html": [
              "<div>\n",
              "<style scoped>\n",
              "    .dataframe tbody tr th:only-of-type {\n",
              "        vertical-align: middle;\n",
              "    }\n",
              "\n",
              "    .dataframe tbody tr th {\n",
              "        vertical-align: top;\n",
              "    }\n",
              "\n",
              "    .dataframe thead th {\n",
              "        text-align: right;\n",
              "    }\n",
              "</style>\n",
              "<table border=\"1\" class=\"dataframe\">\n",
              "  <thead>\n",
              "    <tr style=\"text-align: right;\">\n",
              "      <th></th>\n",
              "      <th>HomeConfinement</th>\n",
              "      <th>CurrentPositiveCases</th>\n",
              "      <th>Recovered</th>\n",
              "      <th>Deaths</th>\n",
              "      <th>TotalPositiveCases</th>\n",
              "      <th>TestsPerformed</th>\n",
              "    </tr>\n",
              "  </thead>\n",
              "  <tbody>\n",
              "    <tr>\n",
              "      <th>2</th>\n",
              "      <td>301</td>\n",
              "      <td>323</td>\n",
              "      <td>8817</td>\n",
              "      <td>1103</td>\n",
              "      <td>10243</td>\n",
              "      <td>227034</td>\n",
              "    </tr>\n",
              "    <tr>\n",
              "      <th>3</th>\n",
              "      <td>52</td>\n",
              "      <td>54</td>\n",
              "      <td>4404</td>\n",
              "      <td>405</td>\n",
              "      <td>4863</td>\n",
              "      <td>62021</td>\n",
              "    </tr>\n",
              "    <tr>\n",
              "      <th>4</th>\n",
              "      <td>6</td>\n",
              "      <td>9</td>\n",
              "      <td>1351</td>\n",
              "      <td>80</td>\n",
              "      <td>1440</td>\n",
              "      <td>64456</td>\n",
              "    </tr>\n",
              "    <tr>\n",
              "      <th>5</th>\n",
              "      <td>1</td>\n",
              "      <td>4</td>\n",
              "      <td>1044</td>\n",
              "      <td>146</td>\n",
              "      <td>1194</td>\n",
              "      <td>13681</td>\n",
              "    </tr>\n",
              "    <tr>\n",
              "      <th>6</th>\n",
              "      <td>443</td>\n",
              "      <td>460</td>\n",
              "      <td>16807</td>\n",
              "      <td>2008</td>\n",
              "      <td>19275</td>\n",
              "      <td>405126</td>\n",
              "    </tr>\n",
              "  </tbody>\n",
              "</table>\n",
              "</div>"
            ],
            "text/plain": [
              "   HomeConfinement  CurrentPositiveCases  ...  TotalPositiveCases  TestsPerformed\n",
              "2              301                   323  ...               10243          227034\n",
              "3               52                    54  ...                4863           62021\n",
              "4                6                     9  ...                1440           64456\n",
              "5                1                     4  ...                1194           13681\n",
              "6              443                   460  ...               19275          405126\n",
              "\n",
              "[5 rows x 6 columns]"
            ]
          },
          "metadata": {
            "tags": []
          },
          "execution_count": 105
        }
      ]
    },
    {
      "cell_type": "code",
      "metadata": {
        "id": "kRkMcDXMVlwD",
        "colab_type": "code",
        "colab": {
          "base_uri": "https://localhost:8080/",
          "height": 195
        },
        "outputId": "674c673b-4baf-46aa-e671-5e6e27aeb0bc"
      },
      "source": [
        "predict = predict.apply(lambda x: (x - x.min(axis=0)) / (x.max(axis=0) - x.min(axis=0)))\n",
        "predict.tail()"
      ],
      "execution_count": null,
      "outputs": [
        {
          "output_type": "execute_result",
          "data": {
            "text/html": [
              "<div>\n",
              "<style scoped>\n",
              "    .dataframe tbody tr th:only-of-type {\n",
              "        vertical-align: middle;\n",
              "    }\n",
              "\n",
              "    .dataframe tbody tr th {\n",
              "        vertical-align: top;\n",
              "    }\n",
              "\n",
              "    .dataframe thead th {\n",
              "        text-align: right;\n",
              "    }\n",
              "</style>\n",
              "<table border=\"1\" class=\"dataframe\">\n",
              "  <thead>\n",
              "    <tr style=\"text-align: right;\">\n",
              "      <th></th>\n",
              "      <th>HomeConfinement</th>\n",
              "      <th>CurrentPositiveCases</th>\n",
              "      <th>Recovered</th>\n",
              "      <th>Deaths</th>\n",
              "      <th>TotalPositiveCases</th>\n",
              "      <th>TestsPerformed</th>\n",
              "    </tr>\n",
              "  </thead>\n",
              "  <tbody>\n",
              "    <tr>\n",
              "      <th>2</th>\n",
              "      <td>0.68</td>\n",
              "      <td>0.70</td>\n",
              "      <td>0.49</td>\n",
              "      <td>0.53</td>\n",
              "      <td>0.50</td>\n",
              "      <td>0.55</td>\n",
              "    </tr>\n",
              "    <tr>\n",
              "      <th>3</th>\n",
              "      <td>0.12</td>\n",
              "      <td>0.11</td>\n",
              "      <td>0.21</td>\n",
              "      <td>0.17</td>\n",
              "      <td>0.20</td>\n",
              "      <td>0.12</td>\n",
              "    </tr>\n",
              "    <tr>\n",
              "      <th>4</th>\n",
              "      <td>0.01</td>\n",
              "      <td>0.01</td>\n",
              "      <td>0.02</td>\n",
              "      <td>0.00</td>\n",
              "      <td>0.01</td>\n",
              "      <td>0.13</td>\n",
              "    </tr>\n",
              "    <tr>\n",
              "      <th>5</th>\n",
              "      <td>0.00</td>\n",
              "      <td>0.00</td>\n",
              "      <td>0.00</td>\n",
              "      <td>0.03</td>\n",
              "      <td>0.00</td>\n",
              "      <td>0.00</td>\n",
              "    </tr>\n",
              "    <tr>\n",
              "      <th>6</th>\n",
              "      <td>1.00</td>\n",
              "      <td>1.00</td>\n",
              "      <td>1.00</td>\n",
              "      <td>1.00</td>\n",
              "      <td>1.00</td>\n",
              "      <td>1.00</td>\n",
              "    </tr>\n",
              "  </tbody>\n",
              "</table>\n",
              "</div>"
            ],
            "text/plain": [
              "   HomeConfinement  CurrentPositiveCases  ...  TotalPositiveCases  TestsPerformed\n",
              "2             0.68                  0.70  ...                0.50            0.55\n",
              "3             0.12                  0.11  ...                0.20            0.12\n",
              "4             0.01                  0.01  ...                0.01            0.13\n",
              "5             0.00                  0.00  ...                0.00            0.00\n",
              "6             1.00                  1.00  ...                1.00            1.00\n",
              "\n",
              "[5 rows x 6 columns]"
            ]
          },
          "metadata": {
            "tags": []
          },
          "execution_count": 106
        }
      ]
    },
    {
      "cell_type": "code",
      "metadata": {
        "id": "wrQA4hwtZre9",
        "colab_type": "code",
        "colab": {
          "base_uri": "https://localhost:8080/",
          "height": 34
        },
        "outputId": "0a23e6ca-71aa-41b2-927c-43d6de75a444"
      },
      "source": [
        "test_data = np.array([0.01, 0.00,   0.01,   0.02,   0.13])\n",
        "print(model.predict(test_data.reshape(1,5), batch_size=1))"
      ],
      "execution_count": null,
      "outputs": [
        {
          "output_type": "stream",
          "text": [
            "[[0.01778849]]\n"
          ],
          "name": "stdout"
        }
      ]
    }
  ]
}